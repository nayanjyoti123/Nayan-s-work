{
 "cells": [
  {
   "cell_type": "code",
   "execution_count": 1,
   "metadata": {
    "collapsed": true
   },
   "outputs": [],
   "source": [
    "%matplotlib inline\n",
    "import numpy as np\n",
    "import matplotlib.pyplot as plt"
   ]
  },
  {
   "cell_type": "code",
   "execution_count": 64,
   "metadata": {},
   "outputs": [],
   "source": [
    "x = np.arange(20)\n",
    "y = 2*x -3*x**2 + 4*x**3 "
   ]
  },
  {
   "cell_type": "code",
   "execution_count": 65,
   "metadata": {},
   "outputs": [
    {
     "data": {
      "text/plain": [
       "<matplotlib.collections.PathCollection at 0x20757cef390>"
      ]
     },
     "execution_count": 65,
     "metadata": {},
     "output_type": "execute_result"
    },
    {
     "data": {
      "image/png": "[encoded data removed]",
      "text/plain": [
       "<matplotlib.figure.Figure at 0x20757c470b8>"
      ]
     },
     "metadata": {},
     "output_type": "display_data"
    }
   ],
   "source": [
    "plt.scatter(x,y)"
   ]
  },
  {
   "cell_type": "markdown",
   "metadata": {},
   "source": [
    "### Simple Linear Regression"
   ]
  },
  {
   "cell_type": "code",
   "execution_count": 10,
   "metadata": {},
   "outputs": [
    {
     "data": {
      "text/plain": [
       "<matplotlib.collections.PathCollection at 0x207559f6b00>"
      ]
     },
     "execution_count": 10,
     "metadata": {},
     "output_type": "execute_result"
    },
    {
     "data": {
      "image/png": "[encoded data removed]",
      "text/plain": [
       "<matplotlib.figure.Figure at 0x207559b5128>"
      ]
     },
     "metadata": {},
     "output_type": "display_data"
    }
   ],
   "source": [
    "rng = np.random.RandomState(1)\n",
    "x = 10 * rng.rand(50)\n",
    "y = 2 * x - 5 + rng.randn(50)\n",
    "plt.scatter(x, y)"
   ]
  },
  {
   "cell_type": "code",
   "execution_count": 11,
   "metadata": {
    "collapsed": true
   },
   "outputs": [],
   "source": [
    "from sklearn.linear_model import LinearRegression\n",
    "# Create a Model\n",
    "model = LinearRegression(fit_intercept=True)"
   ]
  },
  {
   "cell_type": "code",
   "execution_count": 12,
   "metadata": {},
   "outputs": [
    {
     "data": {
      "text/plain": [
       "LinearRegression(copy_X=True, fit_intercept=True, n_jobs=1, normalize=False)"
      ]
     },
     "execution_count": 12,
     "metadata": {},
     "output_type": "execute_result"
    }
   ],
   "source": [
    "#Train the model\n",
    "model.fit(x[:,np.newaxis], y)"
   ]
  },
  {
   "cell_type": "code",
   "execution_count": 19,
   "metadata": {},
   "outputs": [],
   "source": [
    "# y - target vector, its represented in single dimension\n",
    "# x[:,np.newaxis] - feature matrix"
   ]
  },
  {
   "cell_type": "code",
   "execution_count": 22,
   "metadata": {},
   "outputs": [],
   "source": [
    "xtest = np.linspace(0,10,20)\n",
    "#xtest\n",
    "ytest = model.predict(xtest[:,np.newaxis])"
   ]
  },
  {
   "cell_type": "code",
   "execution_count": 24,
   "metadata": {},
   "outputs": [
    {
     "data": {
      "text/plain": [
       "<matplotlib.collections.PathCollection at 0x20757a753c8>"
      ]
     },
     "execution_count": 24,
     "metadata": {},
     "output_type": "execute_result"
    },
    {
     "data": {
      "image/png": "[encoded data removed]",
      "text/plain": [
       "<matplotlib.figure.Figure at 0x207577ffa58>"
      ]
     },
     "metadata": {},
     "output_type": "display_data"
    }
   ],
   "source": [
    "plt.scatter(xtest,ytest)"
   ]
  },
  {
   "cell_type": "code",
   "execution_count": 25,
   "metadata": {},
   "outputs": [
    {
     "data": {
      "text/plain": [
       "array([ 2.02720881])"
      ]
     },
     "execution_count": 25,
     "metadata": {},
     "output_type": "execute_result"
    }
   ],
   "source": [
    "model.coef_"
   ]
  },
  {
   "cell_type": "code",
   "execution_count": 26,
   "metadata": {},
   "outputs": [
    {
     "data": {
      "text/plain": [
       "-4.9985770855532055"
      ]
     },
     "execution_count": 26,
     "metadata": {},
     "output_type": "execute_result"
    }
   ],
   "source": [
    "model.intercept_"
   ]
  },
  {
   "cell_type": "code",
   "execution_count": 70,
   "metadata": {},
   "outputs": [
    {
     "data": {
      "text/plain": [
       "<matplotlib.collections.PathCollection at 0x20757d57630>"
      ]
     },
     "execution_count": 70,
     "metadata": {},
     "output_type": "execute_result"
    },
    {
     "data": {
      "image/png": "[encoded data removed]",
      "text/plain": [
       "<matplotlib.figure.Figure at 0x20757cbb080>"
      ]
     },
     "metadata": {},
     "output_type": "display_data"
    }
   ],
   "source": [
    "rng = np.random.RandomState(1)\n",
    "x = 10 * rng.rand(50)\n",
    "y = 5*x**2 + 2 * x - 5 + rng.randn(50)\n",
    "plt.scatter(x, y)"
   ]
  },
  {
   "cell_type": "code",
   "execution_count": 71,
   "metadata": {},
   "outputs": [
    {
     "data": {
      "text/plain": [
       "LinearRegression(copy_X=True, fit_intercept=True, n_jobs=1, normalize=False)"
      ]
     },
     "execution_count": 71,
     "metadata": {},
     "output_type": "execute_result"
    }
   ],
   "source": [
    "model = LinearRegression(fit_intercept=True)\n",
    "model.fit(x[:,np.newaxis],y)"
   ]
  },
  {
   "cell_type": "code",
   "execution_count": 72,
   "metadata": {
    "collapsed": true
   },
   "outputs": [],
   "source": [
    "ypredict = model.predict(x[:,np.newaxis])"
   ]
  },
  {
   "cell_type": "code",
   "execution_count": 73,
   "metadata": {},
   "outputs": [
    {
     "data": {
      "text/plain": [
       "<matplotlib.collections.PathCollection at 0x20757d126d8>"
      ]
     },
     "execution_count": 73,
     "metadata": {},
     "output_type": "execute_result"
    },
    {
     "data": {
      "image/png": "[encoded data removed]",
      "text/plain": [
       "<matplotlib.figure.Figure at 0x20757d74dd8>"
      ]
     },
     "metadata": {},
     "output_type": "display_data"
    }
   ],
   "source": [
    "plt.scatter(x, y)\n",
    "plt.scatter(x,ypredict,color='red')"
   ]
  },
  {
   "cell_type": "code",
   "execution_count": 74,
   "metadata": {},
   "outputs": [
    {
     "name": "stdout",
     "output_type": "stream",
     "text": [
      "[ 50.95948378]\n",
      "-77.8696079561\n"
     ]
    },
    {
     "data": {
      "text/plain": [
       "array([  4.17022005e+00,   7.20324493e+00,   1.14374817e-03,\n",
       "         3.02332573e+00,   1.46755891e+00,   9.23385948e-01,\n",
       "         1.86260211e+00,   3.45560727e+00,   3.96767474e+00,\n",
       "         5.38816734e+00,   4.19194514e+00,   6.85219500e+00,\n",
       "         2.04452250e+00,   8.78117436e+00,   2.73875932e-01,\n",
       "         6.70467510e+00,   4.17304802e+00,   5.58689828e+00,\n",
       "         1.40386939e+00,   1.98101489e+00,   8.00744569e+00,\n",
       "         9.68261576e+00,   3.13424178e+00,   6.92322616e+00,\n",
       "         8.76389152e+00,   8.94606664e+00,   8.50442114e-01,\n",
       "         3.90547832e-01,   1.69830420e+00,   8.78142503e+00,\n",
       "         9.83468338e-01,   4.21107625e+00,   9.57889530e+00,\n",
       "         5.33165285e+00,   6.91877114e+00,   3.15515631e+00,\n",
       "         6.86500928e+00,   8.34625672e+00,   1.82882773e-01,\n",
       "         7.50144315e+00,   9.88861089e+00,   7.48165654e+00,\n",
       "         2.80443992e+00,   7.89279328e+00,   1.03226007e+00,\n",
       "         4.47893526e+00,   9.08595503e+00,   2.93614148e+00,\n",
       "         2.87775339e+00,   1.30028572e+00])"
      ]
     },
     "execution_count": 74,
     "metadata": {},
     "output_type": "execute_result"
    }
   ],
   "source": [
    "print (model.coef_)\n",
    "\n",
    "print (model.intercept_)\n",
    "x"
   ]
  },
  {
   "cell_type": "markdown",
   "metadata": {},
   "source": [
    "### Polynomial Function"
   ]
  },
  {
   "cell_type": "code",
   "execution_count": 42,
   "metadata": {},
   "outputs": [],
   "source": [
    "from sklearn.preprocessing import PolynomialFeatures\n",
    "poly = PolynomialFeatures(2)"
   ]
  },
  {
   "cell_type": "code",
   "execution_count": 43,
   "metadata": {},
   "outputs": [
    {
     "data": {
      "text/plain": [
       "array([[  1.00000000e+00,   4.17022005e+00,   1.73907352e+01],\n",
       "       [  1.00000000e+00,   7.20324493e+00,   5.18867376e+01],\n",
       "       [  1.00000000e+00,   1.14374817e-03,   1.30815988e-06],\n",
       "       [  1.00000000e+00,   3.02332573e+00,   9.14049845e+00],\n",
       "       [  1.00000000e+00,   1.46755891e+00,   2.15372915e+00],\n",
       "       [  1.00000000e+00,   9.23385948e-01,   8.52641608e-01],\n",
       "       [  1.00000000e+00,   1.86260211e+00,   3.46928663e+00],\n",
       "       [  1.00000000e+00,   3.45560727e+00,   1.19412216e+01],\n",
       "       [  1.00000000e+00,   3.96767474e+00,   1.57424429e+01],\n",
       "       [  1.00000000e+00,   5.38816734e+00,   2.90323473e+01],\n",
       "       [  1.00000000e+00,   4.19194514e+00,   1.75724041e+01],\n",
       "       [  1.00000000e+00,   6.85219500e+00,   4.69525764e+01],\n",
       "       [  1.00000000e+00,   2.04452250e+00,   4.18007224e+00],\n",
       "       [  1.00000000e+00,   8.78117436e+00,   7.71090232e+01],\n",
       "       [  1.00000000e+00,   2.73875932e-01,   7.50080261e-02],\n",
       "       [  1.00000000e+00,   6.70467510e+00,   4.49526682e+01],\n",
       "       [  1.00000000e+00,   4.17304802e+00,   1.74143298e+01],\n",
       "       [  1.00000000e+00,   5.58689828e+00,   3.12134324e+01],\n",
       "       [  1.00000000e+00,   1.40386939e+00,   1.97084925e+00],\n",
       "       [  1.00000000e+00,   1.98101489e+00,   3.92442000e+00],\n",
       "       [  1.00000000e+00,   8.00744569e+00,   6.41191864e+01],\n",
       "       [  1.00000000e+00,   9.68261576e+00,   9.37530479e+01],\n",
       "       [  1.00000000e+00,   3.13424178e+00,   9.82347155e+00],\n",
       "       [  1.00000000e+00,   6.92322616e+00,   4.79310604e+01],\n",
       "       [  1.00000000e+00,   8.76389152e+00,   7.68057946e+01],\n",
       "       [  1.00000000e+00,   8.94606664e+00,   8.00321082e+01],\n",
       "       [  1.00000000e+00,   8.50442114e-01,   7.23251789e-01],\n",
       "       [  1.00000000e+00,   3.90547832e-01,   1.52527609e-01],\n",
       "       [  1.00000000e+00,   1.69830420e+00,   2.88423714e+00],\n",
       "       [  1.00000000e+00,   8.78142503e+00,   7.71134256e+01],\n",
       "       [  1.00000000e+00,   9.83468338e-01,   9.67209972e-01],\n",
       "       [  1.00000000e+00,   4.21107625e+00,   1.77331632e+01],\n",
       "       [  1.00000000e+00,   9.57889530e+00,   9.17552352e+01],\n",
       "       [  1.00000000e+00,   5.33165285e+00,   2.84265221e+01],\n",
       "       [  1.00000000e+00,   6.91877114e+00,   4.78693941e+01],\n",
       "       [  1.00000000e+00,   3.15515631e+00,   9.95501134e+00],\n",
       "       [  1.00000000e+00,   6.86500928e+00,   4.71283524e+01],\n",
       "       [  1.00000000e+00,   8.34625672e+00,   6.96600012e+01],\n",
       "       [  1.00000000e+00,   1.82882773e-01,   3.34461088e-02],\n",
       "       [  1.00000000e+00,   7.50144315e+00,   5.62716493e+01],\n",
       "       [  1.00000000e+00,   9.88861089e+00,   9.77846253e+01],\n",
       "       [  1.00000000e+00,   7.48165654e+00,   5.59751846e+01],\n",
       "       [  1.00000000e+00,   2.80443992e+00,   7.86488327e+00],\n",
       "       [  1.00000000e+00,   7.89279328e+00,   6.22961858e+01],\n",
       "       [  1.00000000e+00,   1.03226007e+00,   1.06556084e+00],\n",
       "       [  1.00000000e+00,   4.47893526e+00,   2.00608611e+01],\n",
       "       [  1.00000000e+00,   9.08595503e+00,   8.25545788e+01],\n",
       "       [  1.00000000e+00,   2.93614148e+00,   8.62092681e+00],\n",
       "       [  1.00000000e+00,   2.87775339e+00,   8.28146455e+00],\n",
       "       [  1.00000000e+00,   1.30028572e+00,   1.69074296e+00]])"
      ]
     },
     "execution_count": 43,
     "metadata": {},
     "output_type": "execute_result"
    }
   ],
   "source": [
    "\n",
    "poly.fit_transform(x[:, None])"
   ]
  },
  {
   "cell_type": "markdown",
   "metadata": {},
   "source": [
    "### Introducing Pipeline\n"
   ]
  },
  {
   "cell_type": "code",
   "execution_count": 45,
   "metadata": {},
   "outputs": [],
   "source": [
    "from sklearn.pipeline import make_pipeline"
   ]
  },
  {
   "cell_type": "code",
   "execution_count": 83,
   "metadata": {
    "collapsed": true
   },
   "outputs": [],
   "source": [
    "poly_model = make_pipeline(PolynomialFeatures(5), LinearRegression())"
   ]
  },
  {
   "cell_type": "code",
   "execution_count": 84,
   "metadata": {},
   "outputs": [
    {
     "data": {
      "text/plain": [
       "Pipeline(steps=[('polynomialfeatures', PolynomialFeatures(degree=5, include_bias=True, interaction_only=False)), ('linearregression', LinearRegression(copy_X=True, fit_intercept=True, n_jobs=1, normalize=False))])"
      ]
     },
     "execution_count": 84,
     "metadata": {},
     "output_type": "execute_result"
    }
   ],
   "source": [
    "poly_model.fit(x[:,np.newaxis],y)"
   ]
  },
  {
   "cell_type": "code",
   "execution_count": 85,
   "metadata": {},
   "outputs": [],
   "source": [
    "y_polytest = poly_model.predict(xtest[:,np.newaxis])"
   ]
  },
  {
   "cell_type": "code",
   "execution_count": 86,
   "metadata": {},
   "outputs": [
    {
     "data": {
      "text/plain": [
       "<matplotlib.collections.PathCollection at 0x20757e89e10>"
      ]
     },
     "execution_count": 86,
     "metadata": {},
     "output_type": "execute_result"
    },
    {
     "data": {
      "image/png": "[encoded data removed]",
      "text/plain": [
       "<matplotlib.figure.Figure at 0x20757e38eb8>"
      ]
     },
     "metadata": {},
     "output_type": "display_data"
    }
   ],
   "source": [
    "plt.scatter(xtest,y_polytest)"
   ]
  },
  {
   "cell_type": "markdown",
   "metadata": {},
   "source": [
    "### Finding score - how good is it working"
   ]
  },
  {
   "cell_type": "code",
   "execution_count": 87,
   "metadata": {
    "collapsed": true
   },
   "outputs": [],
   "source": [
    "rng = np.random.RandomState(1)\n",
    "x = 10 * rng.rand(100)\n",
    "y = 5*x**2 + 2 * x - 5 + rng.randn(100)"
   ]
  },
  {
   "cell_type": "code",
   "execution_count": 88,
   "metadata": {},
   "outputs": [
    {
     "data": {
      "text/plain": [
       "0.93885063989311979"
      ]
     },
     "execution_count": 88,
     "metadata": {},
     "output_type": "execute_result"
    }
   ],
   "source": [
    "model.score(x[:,np.newaxis],y)"
   ]
  },
  {
   "cell_type": "code",
   "execution_count": 89,
   "metadata": {},
   "outputs": [
    {
     "data": {
      "text/plain": [
       "0.99996701472111604"
      ]
     },
     "execution_count": 89,
     "metadata": {},
     "output_type": "execute_result"
    }
   ],
   "source": [
    "poly_model.score(x[:, np.newaxis],y)"
   ]
  },
  {
   "cell_type": "code",
   "execution_count": 82,
   "metadata": {},
   "outputs": [
    {
     "data": {
      "text/plain": [
       "array([  4.17022005e+00,   7.20324493e+00,   1.14374817e-03,\n",
       "         3.02332573e+00,   1.46755891e+00,   9.23385948e-01,\n",
       "         1.86260211e+00,   3.45560727e+00,   3.96767474e+00,\n",
       "         5.38816734e+00,   4.19194514e+00,   6.85219500e+00,\n",
       "         2.04452250e+00,   8.78117436e+00,   2.73875932e-01,\n",
       "         6.70467510e+00,   4.17304802e+00,   5.58689828e+00,\n",
       "         1.40386939e+00,   1.98101489e+00,   8.00744569e+00,\n",
       "         9.68261576e+00,   3.13424178e+00,   6.92322616e+00,\n",
       "         8.76389152e+00,   8.94606664e+00,   8.50442114e-01,\n",
       "         3.90547832e-01,   1.69830420e+00,   8.78142503e+00,\n",
       "         9.83468338e-01,   4.21107625e+00,   9.57889530e+00,\n",
       "         5.33165285e+00,   6.91877114e+00,   3.15515631e+00,\n",
       "         6.86500928e+00,   8.34625672e+00,   1.82882773e-01,\n",
       "         7.50144315e+00,   9.88861089e+00,   7.48165654e+00,\n",
       "         2.80443992e+00,   7.89279328e+00,   1.03226007e+00,\n",
       "         4.47893526e+00,   9.08595503e+00,   2.93614148e+00,\n",
       "         2.87775339e+00,   1.30028572e+00,   1.93669579e-01,\n",
       "         6.78835533e+00,   2.11628116e+00,   2.65546659e+00,\n",
       "         4.91573159e+00,   5.33625451e-01,   5.74117605e+00,\n",
       "         1.46728575e+00,   5.89305537e+00,   6.99758360e+00,\n",
       "         1.02334429e+00,   4.14055988e+00,   6.94400158e+00,\n",
       "         4.14179270e+00,   4.99534589e-01,   5.35896406e+00,\n",
       "         6.63794645e+00,   5.14889112e+00,   9.44594756e+00,\n",
       "         5.86555041e+00,   9.03401915e+00,   1.37474704e+00,\n",
       "         1.39276347e+00,   8.07391289e+00,   3.97676837e+00,\n",
       "         1.65354197e+00,   9.27508580e+00,   3.47765860e+00,\n",
       "         7.50812103e+00,   7.25997985e+00,   8.83306091e+00,\n",
       "         6.23672207e+00,   7.50942434e+00,   3.48898342e+00,\n",
       "         2.69927892e+00,   8.95886218e+00,   4.28091190e+00,\n",
       "         9.64840047e+00,   6.63441498e+00,   6.21695720e+00,\n",
       "         1.14745973e+00,   9.49489259e+00,   4.49912133e+00,\n",
       "         5.78389614e+00,   4.08136803e+00,   2.37026980e+00,\n",
       "         9.03379521e+00,   5.73679487e+00,   2.87032703e-02,\n",
       "         6.17144914e+00])"
      ]
     },
     "execution_count": 82,
     "metadata": {},
     "output_type": "execute_result"
    }
   ],
   "source": [
    "x"
   ]
  },
  {
   "cell_type": "code",
   "execution_count": null,
   "metadata": {
    "collapsed": true
   },
   "outputs": [],
   "source": []
  }
 ],
 "metadata": {
  "kernelspec": {
   "display_name": "Python 3",
   "language": "python",
   "name": "python3"
  },
  "language_info": {
   "codemirror_mode": {
    "name": "ipython",
    "version": 3
   },
   "file_extension": ".py",
   "mimetype": "text/x-python",
   "name": "python",
   "nbconvert_exporter": "python",
   "pygments_lexer": "ipython3",
   "version": "3.5.0"
  }
 },
 "nbformat": 4,
 "nbformat_minor": 2
}
