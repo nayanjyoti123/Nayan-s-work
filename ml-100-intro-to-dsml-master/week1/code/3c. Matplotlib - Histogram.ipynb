{
 "cells": [
  {
   "cell_type": "code",
   "execution_count": 1,
   "metadata": {
    "collapsed": true
   },
   "outputs": [],
   "source": [
    "%matplotlib inline\n",
    "import matplotlib.pyplot as plt\n",
    "import numpy as np"
   ]
  },
  {
   "cell_type": "code",
   "execution_count": 2,
   "metadata": {
    "collapsed": true
   },
   "outputs": [],
   "source": [
    "data = np.random.randn(1000)"
   ]
  },
  {
   "cell_type": "code",
   "execution_count": 3,
   "metadata": {},
   "outputs": [
    {
     "data": {
      "text/plain": [
       "(array([   3.,    9.,   53.,  128.,  248.,  274.,  186.,   69.,   26.,    4.]),\n",
       " array([-3.47175162, -2.80081477, -2.12987791, -1.45894106, -0.78800421,\n",
       "        -0.11706735,  0.5538695 ,  1.22480636,  1.89574321,  2.56668006,\n",
       "         3.23761692]),\n",
       " <a list of 10 Patch objects>)"
      ]
     },
     "execution_count": 3,
     "metadata": {},
     "output_type": "execute_result"
    },
    {
     "data": {
      "image/png": "[encoded data removed]",
      "text/plain": [
       "<matplotlib.figure.Figure at 0x18069867940>"
      ]
     },
     "metadata": {},
     "output_type": "display_data"
    }
   ],
   "source": [
    "plt.hist(data)"
   ]
  },
  {
   "cell_type": "code",
   "execution_count": 4,
   "metadata": {},
   "outputs": [
    {
     "data": {
      "text/plain": [
       "(array([  1.,   1.,   1.,   3.,   1.,   5.,   9.,  16.,  28.,  25.,  48.,\n",
       "         55.,  76.,  77.,  95.,  84.,  98.,  92.,  80.,  64.,  42.,  36.,\n",
       "         18.,  15.,  13.,   8.,   5.,   1.,   2.,   1.]),\n",
       " array([-3.47175162, -3.248106  , -3.02446038, -2.80081477, -2.57716915,\n",
       "        -2.35352353, -2.12987791, -1.9062323 , -1.68258668, -1.45894106,\n",
       "        -1.23529544, -1.01164982, -0.78800421, -0.56435859, -0.34071297,\n",
       "        -0.11706735,  0.10657827,  0.33022388,  0.5538695 ,  0.77751512,\n",
       "         1.00116074,  1.22480636,  1.44845197,  1.67209759,  1.89574321,\n",
       "         2.11938883,  2.34303445,  2.56668006,  2.79032568,  3.0139713 ,\n",
       "         3.23761692]),\n",
       " <a list of 30 Patch objects>)"
      ]
     },
     "execution_count": 4,
     "metadata": {},
     "output_type": "execute_result"
    },
    {
     "data": {
      "image/png": "[encoded data removed]",
      "text/plain": [
       "<matplotlib.figure.Figure at 0x1806b8dfcc0>"
      ]
     },
     "metadata": {},
     "output_type": "display_data"
    }
   ],
   "source": [
    "plt.hist(data, bins=30, alpha=0.3,color='red')"
   ]
  },
  {
   "cell_type": "code",
   "execution_count": 5,
   "metadata": {},
   "outputs": [
    {
     "data": {
      "text/plain": [
       "(array([  1.,   1.,   1.,   0.,   1.,   3.,   5.,  10.,   4.,   8.,  19.,\n",
       "         19.,  20.,  29.,  34.,  30.,  48.,  45.,  38.,  56.,  55.,  56.,\n",
       "         64.,  53.,  57.,  56.,  44.,  40.,  35.,  28.,  30.,  36.,  18.,\n",
       "         17.,   9.,   9.,  10.,   2.,   7.,   2.]),\n",
       " array([-3.39773849, -3.11266159, -2.82758468, -2.54250777, -2.25743086,\n",
       "        -1.97235395, -1.68727705, -1.40220014, -1.11712323, -0.83204632,\n",
       "        -0.54696941, -0.26189251,  0.0231844 ,  0.30826131,  0.59333822,\n",
       "         0.87841512,  1.16349203,  1.44856894,  1.73364585,  2.01872276,\n",
       "         2.30379966,  2.58887657,  2.87395348,  3.15903039,  3.44410729,\n",
       "         3.7291842 ,  4.01426111,  4.29933802,  4.58441493,  4.86949183,\n",
       "         5.15456874,  5.43964565,  5.72472256,  6.00979947,  6.29487637,\n",
       "         6.57995328,  6.86503019,  7.1501071 ,  7.435184  ,  7.72026091,\n",
       "         8.00533782]),\n",
       " <a list of 40 Patch objects>)"
      ]
     },
     "execution_count": 5,
     "metadata": {},
     "output_type": "execute_result"
    },
    {
     "data": {
      "image/png": "[encoded data removed]",
      "text/plain": [
       "<matplotlib.figure.Figure at 0x1806bb0fb38>"
      ]
     },
     "metadata": {},
     "output_type": "display_data"
    }
   ],
   "source": [
    "x1 = np.random.normal(0,0.8, 1000)\n",
    "x2 = np.random.normal(-2,1,1000)\n",
    "x3 = np.random.normal(3, 2, 1000)\n",
    "\n",
    "argdict = dict(alpha=0.3, bins=40)\n",
    "\n",
    "plt.hist(x1, **argdict, color='red')\n",
    "plt.hist(x2, **argdict, color='yellow')\n",
    "plt.hist(x3, **argdict)\n"
   ]
  },
  {
   "cell_type": "code",
   "execution_count": null,
   "metadata": {
    "collapsed": true
   },
   "outputs": [],
   "source": []
  }
 ],
 "metadata": {
  "kernelspec": {
   "display_name": "Python 3",
   "language": "python",
   "name": "python3"
  },
  "language_info": {
   "codemirror_mode": {
    "name": "ipython",
    "version": 3
   },
   "file_extension": ".py",
   "mimetype": "text/x-python",
   "name": "python",
   "nbconvert_exporter": "python",
   "pygments_lexer": "ipython3",
   "version": "3.6.1"
  }
 },
 "nbformat": 4,
 "nbformat_minor": 2
}
