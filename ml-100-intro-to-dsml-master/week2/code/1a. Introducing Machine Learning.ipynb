{
 "cells": [
  {
   "cell_type": "markdown",
   "metadata": {},
   "source": [
    "### Supervised Machine Learning"
   ]
  },
  {
   "cell_type": "markdown",
   "metadata": {},
   "source": [
    "* Supervised learning involves modeling the relationship between measured features of data (size, num_bedroom etc.) and some label(target or outcome) associated with the data (price of house)\n",
    "* Once this model is determined, it can be used to apply labels to new, unknown feature data. \n",
    "* This is further subdivided into classification tasks and regression tasks: in classification, the labels are discrete categories (spam or ham or fixed/predefined number of outcomes), \n",
    "* while in regression, the labels are continuous quantities. "
   ]
  },
  {
   "cell_type": "markdown",
   "metadata": {},
   "source": [
    "### Unsupervised Machine Learning\n",
    "* Unsupervised learning involves modeling the features of a dataset without reference to any label, \n",
    "* and is often described as \"letting the dataset speak for itself.\" These models include tasks such as clustering and dimensionality reduction.\n",
    "* Clustering algorithms identify distinct groups of data, \n",
    "* dimensionality reduction algorithms search for more succinct representations of the data."
   ]
  },
  {
   "cell_type": "markdown",
   "metadata": {},
   "source": [
    "##### Features \n",
    "Properties of Data\n",
    "\n",
    "##### Target/Label\n",
    "Outcome of data\n",
    "\n",
    "##### Qualitative/Categorical  Data\n",
    "Male - Female, Something which is not number but string. ML understands only  numbers & not strings. A very common operation is to convert string into numbers\n",
    "\n",
    "##### Quantitative/numerical Data\n",
    "Numberical information about the data\n",
    "\n",
    "##### Dimension of Data\n",
    "Number of features representing your data\n",
    "\n",
    "ML uses n-dim matrix to represent dataset\n",
    "\n"
   ]
  },
  {
   "cell_type": "code",
   "execution_count": null,
   "metadata": {
    "collapsed": true
   },
   "outputs": [],
   "source": []
  }
 ],
 "metadata": {
  "kernelspec": {
   "display_name": "Python 3",
   "language": "python",
   "name": "python3"
  },
  "language_info": {
   "codemirror_mode": {
    "name": "ipython",
    "version": 3
   },
   "file_extension": ".py",
   "mimetype": "text/x-python",
   "name": "python",
   "nbconvert_exporter": "python",
   "pygments_lexer": "ipython3",
   "version": "3.5.0"
  }
 },
 "nbformat": 4,
 "nbformat_minor": 2
}
