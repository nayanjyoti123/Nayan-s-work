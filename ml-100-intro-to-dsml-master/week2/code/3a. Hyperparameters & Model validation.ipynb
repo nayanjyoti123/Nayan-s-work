{
 "cells": [
  {
   "cell_type": "markdown",
   "metadata": {},
   "source": [
    "#### Hyperparameters\n",
    "* Configuration of model init values\n",
    "* Choice of hyperparameters "
   ]
  },
  {
   "cell_type": "markdown",
   "metadata": {},
   "source": [
    "* Choose a class of model\n",
    "* Choose model hyperparameters\n",
    "* Fit the model to training data\n",
    "* Use the model to predict labels for new data"
   ]
  },
  {
   "cell_type": "markdown",
   "metadata": {},
   "source": [
    "### Model Validation"
   ]
  },
  {
   "cell_type": "code",
   "execution_count": 1,
   "metadata": {},
   "outputs": [
    {
     "data": {
      "text/plain": [
       "array(['setosa', 'versicolor', 'virginica'], \n",
       "      dtype='<U10')"
      ]
     },
     "execution_count": 1,
     "metadata": {},
     "output_type": "execute_result"
    }
   ],
   "source": [
    "from sklearn.datasets import load_iris\n",
    "iris = load_iris()\n",
    "X = iris.data\n",
    "y = iris.target\n",
    "iris.target_names"
   ]
  },
  {
   "cell_type": "code",
   "execution_count": 2,
   "metadata": {
    "collapsed": true
   },
   "outputs": [],
   "source": [
    "from sklearn.neighbors import KNeighborsClassifier\n",
    "model = KNeighborsClassifier(n_neighbors=1) # n_neighbors are hyperparameters"
   ]
  },
  {
   "cell_type": "code",
   "execution_count": 3,
   "metadata": {
    "collapsed": true
   },
   "outputs": [],
   "source": [
    "model.fit(X, y) # Training the model\n",
    "y_model = model.predict(X) "
   ]
  },
  {
   "cell_type": "code",
   "execution_count": 4,
   "metadata": {},
   "outputs": [
    {
     "data": {
      "text/plain": [
       "1.0"
      ]
     },
     "execution_count": 4,
     "metadata": {},
     "output_type": "execute_result"
    }
   ],
   "source": [
    "from sklearn.metrics import accuracy_score #Finding accuracy of classification algo\n",
    "# Evaluating classifiers\n",
    "accuracy_score(y, y_model)\n",
    "#y_model\n",
    "#iris.target_names"
   ]
  },
  {
   "cell_type": "markdown",
   "metadata": {},
   "source": [
    "### Doing it right way"
   ]
  },
  {
   "cell_type": "code",
   "execution_count": 75,
   "metadata": {
    "collapsed": true
   },
   "outputs": [],
   "source": [
    "from sklearn.model_selection import train_test_split"
   ]
  },
  {
   "cell_type": "code",
   "execution_count": 76,
   "metadata": {
    "collapsed": true
   },
   "outputs": [],
   "source": [
    "X1, X2, y1, y2 = train_test_split(X,y, random_state = 0, train_size=0.75)"
   ]
  },
  {
   "cell_type": "code",
   "execution_count": 77,
   "metadata": {},
   "outputs": [
    {
     "data": {
      "text/plain": [
       "(112, 4)"
      ]
     },
     "execution_count": 77,
     "metadata": {},
     "output_type": "execute_result"
    }
   ],
   "source": [
    "X1.shape"
   ]
  },
  {
   "cell_type": "code",
   "execution_count": 78,
   "metadata": {},
   "outputs": [
    {
     "data": {
      "text/plain": [
       "(38, 4)"
      ]
     },
     "execution_count": 78,
     "metadata": {},
     "output_type": "execute_result"
    }
   ],
   "source": [
    "X2.shape"
   ]
  },
  {
   "cell_type": "code",
   "execution_count": 79,
   "metadata": {},
   "outputs": [
    {
     "data": {
      "text/plain": [
       "KNeighborsClassifier(algorithm='auto', leaf_size=30, metric='minkowski',\n",
       "           metric_params=None, n_jobs=1, n_neighbors=1, p=2,\n",
       "           weights='uniform')"
      ]
     },
     "execution_count": 79,
     "metadata": {},
     "output_type": "execute_result"
    }
   ],
   "source": [
    "model.fit(X1, y1)"
   ]
  },
  {
   "cell_type": "code",
   "execution_count": 80,
   "metadata": {
    "collapsed": true
   },
   "outputs": [],
   "source": [
    "y2_predict = model.predict(X2)"
   ]
  },
  {
   "cell_type": "code",
   "execution_count": 20,
   "metadata": {},
   "outputs": [
    {
     "data": {
      "text/plain": [
       "0.97368421052631582"
      ]
     },
     "execution_count": 20,
     "metadata": {},
     "output_type": "execute_result"
    }
   ],
   "source": [
    "accuracy_score(y2,y2_predict)"
   ]
  },
  {
   "cell_type": "code",
   "execution_count": 82,
   "metadata": {},
   "outputs": [
    {
     "data": {
      "text/plain": [
       "array([0])"
      ]
     },
     "execution_count": 82,
     "metadata": {},
     "output_type": "execute_result"
    }
   ],
   "source": [
    "model.predict([[ 1,  1,  1,  1]])"
   ]
  },
  {
   "cell_type": "markdown",
   "metadata": {},
   "source": [
    "### Model validation via cross-validation\n",
    "* If configured with cv = 5, it splits entire data into 5 parts.\n",
    "* It will create 5 combination of test & train data"
   ]
  },
  {
   "cell_type": "code",
   "execution_count": 5,
   "metadata": {},
   "outputs": [
    {
     "name": "stderr",
     "output_type": "stream",
     "text": [
      "C:\\Users\\ZekeLabs\\Anaconda3\\lib\\site-packages\\sklearn\\cross_validation.py:44: DeprecationWarning: This module was deprecated in version 0.18 in favor of the model_selection module into which all the refactored classes and functions are moved. Also note that the interface of the new CV iterators are different from that of this module. This module will be removed in 0.20.\n",
      "  \"This module will be removed in 0.20.\", DeprecationWarning)\n"
     ]
    }
   ],
   "source": [
    "from sklearn.cross_validation import cross_val_score"
   ]
  },
  {
   "cell_type": "code",
   "execution_count": 6,
   "metadata": {},
   "outputs": [
    {
     "data": {
      "text/plain": [
       "0.95999999999999996"
      ]
     },
     "execution_count": 6,
     "metadata": {},
     "output_type": "execute_result"
    }
   ],
   "source": [
    "import numpy as np\n",
    "np.mean(cross_val_score(model, X,y, cv=5))"
   ]
  },
  {
   "cell_type": "code",
   "execution_count": 7,
   "metadata": {},
   "outputs": [
    {
     "data": {
      "text/plain": [
       "array([ 0.96666667,  0.96666667,  0.93333333,  0.93333333,  1.        ])"
      ]
     },
     "execution_count": 7,
     "metadata": {},
     "output_type": "execute_result"
    }
   ],
   "source": [
    "cross_val_score(model, X,y, cv=5)"
   ]
  },
  {
   "cell_type": "markdown",
   "metadata": {},
   "source": [
    "### validation curves in scikit-learn\n",
    "    * pipeline is combination of transformers & estimators\n",
    "    * transformers - changes data from one form to another\n",
    "    * estimators - does prediction"
   ]
  },
  {
   "cell_type": "code",
   "execution_count": 40,
   "metadata": {
    "collapsed": true
   },
   "outputs": [],
   "source": [
    "from sklearn.preprocessing import PolynomialFeatures\n",
    "from sklearn.linear_model import LinearRegression\n",
    "from sklearn.pipeline import make_pipeline"
   ]
  },
  {
   "cell_type": "code",
   "execution_count": 42,
   "metadata": {},
   "outputs": [
    {
     "data": {
      "text/plain": [
       "array([[  1.00000000e+00,   6.00000000e+00,   3.60000000e+01,\n",
       "          2.16000000e+02,   1.29600000e+03,   7.77600000e+03],\n",
       "       [  1.00000000e+00,   7.00000000e+00,   4.90000000e+01,\n",
       "          3.43000000e+02,   2.40100000e+03,   1.68070000e+04]])"
      ]
     },
     "execution_count": 42,
     "metadata": {},
     "output_type": "execute_result"
    }
   ],
   "source": [
    "p = PolynomialFeatures(5)\n",
    "p.fit_transform([[6],[7]])"
   ]
  },
  {
   "cell_type": "code",
   "execution_count": 32,
   "metadata": {
    "collapsed": true
   },
   "outputs": [],
   "source": [
    "def Polynomialregression(degree = 2, **kwargs):\n",
    "    return make_pipeline(PolynomialFeatures(degree), LinearRegression(**kwargs))"
   ]
  },
  {
   "cell_type": "code",
   "execution_count": 33,
   "metadata": {},
   "outputs": [
    {
     "data": {
      "text/plain": [
       "array([[  1.73907352e-01],\n",
       "       [  5.18867376e-01],\n",
       "       [  1.30815988e-08],\n",
       "       [  9.14049845e-02],\n",
       "       [  2.15372915e-02],\n",
       "       [  8.52641608e-03],\n",
       "       [  3.46928663e-02],\n",
       "       [  1.19412216e-01],\n",
       "       [  1.57424429e-01],\n",
       "       [  2.90323473e-01],\n",
       "       [  1.75724041e-01],\n",
       "       [  4.69525764e-01],\n",
       "       [  4.18007224e-02],\n",
       "       [  7.71090232e-01],\n",
       "       [  7.50080261e-04],\n",
       "       [  4.49526682e-01],\n",
       "       [  1.74143298e-01],\n",
       "       [  3.12134324e-01],\n",
       "       [  1.97084925e-02],\n",
       "       [  3.92442000e-02],\n",
       "       [  6.41191864e-01],\n",
       "       [  9.37530479e-01],\n",
       "       [  9.82347155e-02],\n",
       "       [  4.79310604e-01],\n",
       "       [  7.68057946e-01],\n",
       "       [  8.00321082e-01],\n",
       "       [  7.23251789e-03],\n",
       "       [  1.52527609e-03],\n",
       "       [  2.88423714e-02],\n",
       "       [  7.71134256e-01],\n",
       "       [  9.67209972e-03],\n",
       "       [  1.77331632e-01],\n",
       "       [  9.17552352e-01],\n",
       "       [  2.84265221e-01],\n",
       "       [  4.78693941e-01],\n",
       "       [  9.95501134e-02],\n",
       "       [  4.71283524e-01],\n",
       "       [  6.96600012e-01],\n",
       "       [  3.34461088e-04],\n",
       "       [  5.62716493e-01]])"
      ]
     },
     "execution_count": 33,
     "metadata": {},
     "output_type": "execute_result"
    }
   ],
   "source": [
    "import numpy as np\n",
    "\n",
    "def make_data(N, err=1.0, rseed=1):\n",
    "    # randomly sample the data\n",
    "    rng = np.random.RandomState(rseed)\n",
    "    X = rng.rand(N, 1) ** 2\n",
    "    y = 10 - 1. / (X.ravel() + 0.1)\n",
    "    if err > 0:\n",
    "        y += err * rng.randn(N)\n",
    "    return X, y\n",
    "\n",
    "X, y = make_data(40)\n",
    "X\n",
    "#y"
   ]
  },
  {
   "cell_type": "code",
   "execution_count": 34,
   "metadata": {
    "collapsed": true
   },
   "outputs": [],
   "source": [
    "%matplotlib inline\n",
    "import matplotlib.pyplot as plt\n",
    "import seaborn; seaborn.set()  # plot formatting"
   ]
  },
  {
   "cell_type": "code",
   "execution_count": 35,
   "metadata": {},
   "outputs": [
    {
     "data": {
      "text/plain": [
       "array([[ -1.00000000e-01],\n",
       "       [ -9.75951904e-02],\n",
       "       [ -9.51903808e-02],\n",
       "       [ -9.27855711e-02],\n",
       "       [ -9.03807615e-02],\n",
       "       [ -8.79759519e-02],\n",
       "       [ -8.55711423e-02],\n",
       "       [ -8.31663327e-02],\n",
       "       [ -8.07615230e-02],\n",
       "       [ -7.83567134e-02],\n",
       "       [ -7.59519038e-02],\n",
       "       [ -7.35470942e-02],\n",
       "       [ -7.11422846e-02],\n",
       "       [ -6.87374749e-02],\n",
       "       [ -6.63326653e-02],\n",
       "       [ -6.39278557e-02],\n",
       "       [ -6.15230461e-02],\n",
       "       [ -5.91182365e-02],\n",
       "       [ -5.67134269e-02],\n",
       "       [ -5.43086172e-02],\n",
       "       [ -5.19038076e-02],\n",
       "       [ -4.94989980e-02],\n",
       "       [ -4.70941884e-02],\n",
       "       [ -4.46893788e-02],\n",
       "       [ -4.22845691e-02],\n",
       "       [ -3.98797595e-02],\n",
       "       [ -3.74749499e-02],\n",
       "       [ -3.50701403e-02],\n",
       "       [ -3.26653307e-02],\n",
       "       [ -3.02605210e-02],\n",
       "       [ -2.78557114e-02],\n",
       "       [ -2.54509018e-02],\n",
       "       [ -2.30460922e-02],\n",
       "       [ -2.06412826e-02],\n",
       "       [ -1.82364729e-02],\n",
       "       [ -1.58316633e-02],\n",
       "       [ -1.34268537e-02],\n",
       "       [ -1.10220441e-02],\n",
       "       [ -8.61723447e-03],\n",
       "       [ -6.21242485e-03],\n",
       "       [ -3.80761523e-03],\n",
       "       [ -1.40280561e-03],\n",
       "       [  1.00200401e-03],\n",
       "       [  3.40681363e-03],\n",
       "       [  5.81162325e-03],\n",
       "       [  8.21643287e-03],\n",
       "       [  1.06212425e-02],\n",
       "       [  1.30260521e-02],\n",
       "       [  1.54308617e-02],\n",
       "       [  1.78356713e-02],\n",
       "       [  2.02404810e-02],\n",
       "       [  2.26452906e-02],\n",
       "       [  2.50501002e-02],\n",
       "       [  2.74549098e-02],\n",
       "       [  2.98597194e-02],\n",
       "       [  3.22645291e-02],\n",
       "       [  3.46693387e-02],\n",
       "       [  3.70741483e-02],\n",
       "       [  3.94789579e-02],\n",
       "       [  4.18837675e-02],\n",
       "       [  4.42885772e-02],\n",
       "       [  4.66933868e-02],\n",
       "       [  4.90981964e-02],\n",
       "       [  5.15030060e-02],\n",
       "       [  5.39078156e-02],\n",
       "       [  5.63126253e-02],\n",
       "       [  5.87174349e-02],\n",
       "       [  6.11222445e-02],\n",
       "       [  6.35270541e-02],\n",
       "       [  6.59318637e-02],\n",
       "       [  6.83366733e-02],\n",
       "       [  7.07414830e-02],\n",
       "       [  7.31462926e-02],\n",
       "       [  7.55511022e-02],\n",
       "       [  7.79559118e-02],\n",
       "       [  8.03607214e-02],\n",
       "       [  8.27655311e-02],\n",
       "       [  8.51703407e-02],\n",
       "       [  8.75751503e-02],\n",
       "       [  8.99799599e-02],\n",
       "       [  9.23847695e-02],\n",
       "       [  9.47895792e-02],\n",
       "       [  9.71943888e-02],\n",
       "       [  9.95991984e-02],\n",
       "       [  1.02004008e-01],\n",
       "       [  1.04408818e-01],\n",
       "       [  1.06813627e-01],\n",
       "       [  1.09218437e-01],\n",
       "       [  1.11623246e-01],\n",
       "       [  1.14028056e-01],\n",
       "       [  1.16432866e-01],\n",
       "       [  1.18837675e-01],\n",
       "       [  1.21242485e-01],\n",
       "       [  1.23647295e-01],\n",
       "       [  1.26052104e-01],\n",
       "       [  1.28456914e-01],\n",
       "       [  1.30861723e-01],\n",
       "       [  1.33266533e-01],\n",
       "       [  1.35671343e-01],\n",
       "       [  1.38076152e-01],\n",
       "       [  1.40480962e-01],\n",
       "       [  1.42885772e-01],\n",
       "       [  1.45290581e-01],\n",
       "       [  1.47695391e-01],\n",
       "       [  1.50100200e-01],\n",
       "       [  1.52505010e-01],\n",
       "       [  1.54909820e-01],\n",
       "       [  1.57314629e-01],\n",
       "       [  1.59719439e-01],\n",
       "       [  1.62124248e-01],\n",
       "       [  1.64529058e-01],\n",
       "       [  1.66933868e-01],\n",
       "       [  1.69338677e-01],\n",
       "       [  1.71743487e-01],\n",
       "       [  1.74148297e-01],\n",
       "       [  1.76553106e-01],\n",
       "       [  1.78957916e-01],\n",
       "       [  1.81362725e-01],\n",
       "       [  1.83767535e-01],\n",
       "       [  1.86172345e-01],\n",
       "       [  1.88577154e-01],\n",
       "       [  1.90981964e-01],\n",
       "       [  1.93386774e-01],\n",
       "       [  1.95791583e-01],\n",
       "       [  1.98196393e-01],\n",
       "       [  2.00601202e-01],\n",
       "       [  2.03006012e-01],\n",
       "       [  2.05410822e-01],\n",
       "       [  2.07815631e-01],\n",
       "       [  2.10220441e-01],\n",
       "       [  2.12625251e-01],\n",
       "       [  2.15030060e-01],\n",
       "       [  2.17434870e-01],\n",
       "       [  2.19839679e-01],\n",
       "       [  2.22244489e-01],\n",
       "       [  2.24649299e-01],\n",
       "       [  2.27054108e-01],\n",
       "       [  2.29458918e-01],\n",
       "       [  2.31863727e-01],\n",
       "       [  2.34268537e-01],\n",
       "       [  2.36673347e-01],\n",
       "       [  2.39078156e-01],\n",
       "       [  2.41482966e-01],\n",
       "       [  2.43887776e-01],\n",
       "       [  2.46292585e-01],\n",
       "       [  2.48697395e-01],\n",
       "       [  2.51102204e-01],\n",
       "       [  2.53507014e-01],\n",
       "       [  2.55911824e-01],\n",
       "       [  2.58316633e-01],\n",
       "       [  2.60721443e-01],\n",
       "       [  2.63126253e-01],\n",
       "       [  2.65531062e-01],\n",
       "       [  2.67935872e-01],\n",
       "       [  2.70340681e-01],\n",
       "       [  2.72745491e-01],\n",
       "       [  2.75150301e-01],\n",
       "       [  2.77555110e-01],\n",
       "       [  2.79959920e-01],\n",
       "       [  2.82364729e-01],\n",
       "       [  2.84769539e-01],\n",
       "       [  2.87174349e-01],\n",
       "       [  2.89579158e-01],\n",
       "       [  2.91983968e-01],\n",
       "       [  2.94388778e-01],\n",
       "       [  2.96793587e-01],\n",
       "       [  2.99198397e-01],\n",
       "       [  3.01603206e-01],\n",
       "       [  3.04008016e-01],\n",
       "       [  3.06412826e-01],\n",
       "       [  3.08817635e-01],\n",
       "       [  3.11222445e-01],\n",
       "       [  3.13627255e-01],\n",
       "       [  3.16032064e-01],\n",
       "       [  3.18436874e-01],\n",
       "       [  3.20841683e-01],\n",
       "       [  3.23246493e-01],\n",
       "       [  3.25651303e-01],\n",
       "       [  3.28056112e-01],\n",
       "       [  3.30460922e-01],\n",
       "       [  3.32865731e-01],\n",
       "       [  3.35270541e-01],\n",
       "       [  3.37675351e-01],\n",
       "       [  3.40080160e-01],\n",
       "       [  3.42484970e-01],\n",
       "       [  3.44889780e-01],\n",
       "       [  3.47294589e-01],\n",
       "       [  3.49699399e-01],\n",
       "       [  3.52104208e-01],\n",
       "       [  3.54509018e-01],\n",
       "       [  3.56913828e-01],\n",
       "       [  3.59318637e-01],\n",
       "       [  3.61723447e-01],\n",
       "       [  3.64128257e-01],\n",
       "       [  3.66533066e-01],\n",
       "       [  3.68937876e-01],\n",
       "       [  3.71342685e-01],\n",
       "       [  3.73747495e-01],\n",
       "       [  3.76152305e-01],\n",
       "       [  3.78557114e-01],\n",
       "       [  3.80961924e-01],\n",
       "       [  3.83366733e-01],\n",
       "       [  3.85771543e-01],\n",
       "       [  3.88176353e-01],\n",
       "       [  3.90581162e-01],\n",
       "       [  3.92985972e-01],\n",
       "       [  3.95390782e-01],\n",
       "       [  3.97795591e-01],\n",
       "       [  4.00200401e-01],\n",
       "       [  4.02605210e-01],\n",
       "       [  4.05010020e-01],\n",
       "       [  4.07414830e-01],\n",
       "       [  4.09819639e-01],\n",
       "       [  4.12224449e-01],\n",
       "       [  4.14629259e-01],\n",
       "       [  4.17034068e-01],\n",
       "       [  4.19438878e-01],\n",
       "       [  4.21843687e-01],\n",
       "       [  4.24248497e-01],\n",
       "       [  4.26653307e-01],\n",
       "       [  4.29058116e-01],\n",
       "       [  4.31462926e-01],\n",
       "       [  4.33867735e-01],\n",
       "       [  4.36272545e-01],\n",
       "       [  4.38677355e-01],\n",
       "       [  4.41082164e-01],\n",
       "       [  4.43486974e-01],\n",
       "       [  4.45891784e-01],\n",
       "       [  4.48296593e-01],\n",
       "       [  4.50701403e-01],\n",
       "       [  4.53106212e-01],\n",
       "       [  4.55511022e-01],\n",
       "       [  4.57915832e-01],\n",
       "       [  4.60320641e-01],\n",
       "       [  4.62725451e-01],\n",
       "       [  4.65130261e-01],\n",
       "       [  4.67535070e-01],\n",
       "       [  4.69939880e-01],\n",
       "       [  4.72344689e-01],\n",
       "       [  4.74749499e-01],\n",
       "       [  4.77154309e-01],\n",
       "       [  4.79559118e-01],\n",
       "       [  4.81963928e-01],\n",
       "       [  4.84368737e-01],\n",
       "       [  4.86773547e-01],\n",
       "       [  4.89178357e-01],\n",
       "       [  4.91583166e-01],\n",
       "       [  4.93987976e-01],\n",
       "       [  4.96392786e-01],\n",
       "       [  4.98797595e-01],\n",
       "       [  5.01202405e-01],\n",
       "       [  5.03607214e-01],\n",
       "       [  5.06012024e-01],\n",
       "       [  5.08416834e-01],\n",
       "       [  5.10821643e-01],\n",
       "       [  5.13226453e-01],\n",
       "       [  5.15631263e-01],\n",
       "       [  5.18036072e-01],\n",
       "       [  5.20440882e-01],\n",
       "       [  5.22845691e-01],\n",
       "       [  5.25250501e-01],\n",
       "       [  5.27655311e-01],\n",
       "       [  5.30060120e-01],\n",
       "       [  5.32464930e-01],\n",
       "       [  5.34869739e-01],\n",
       "       [  5.37274549e-01],\n",
       "       [  5.39679359e-01],\n",
       "       [  5.42084168e-01],\n",
       "       [  5.44488978e-01],\n",
       "       [  5.46893788e-01],\n",
       "       [  5.49298597e-01],\n",
       "       [  5.51703407e-01],\n",
       "       [  5.54108216e-01],\n",
       "       [  5.56513026e-01],\n",
       "       [  5.58917836e-01],\n",
       "       [  5.61322645e-01],\n",
       "       [  5.63727455e-01],\n",
       "       [  5.66132265e-01],\n",
       "       [  5.68537074e-01],\n",
       "       [  5.70941884e-01],\n",
       "       [  5.73346693e-01],\n",
       "       [  5.75751503e-01],\n",
       "       [  5.78156313e-01],\n",
       "       [  5.80561122e-01],\n",
       "       [  5.82965932e-01],\n",
       "       [  5.85370741e-01],\n",
       "       [  5.87775551e-01],\n",
       "       [  5.90180361e-01],\n",
       "       [  5.92585170e-01],\n",
       "       [  5.94989980e-01],\n",
       "       [  5.97394790e-01],\n",
       "       [  5.99799599e-01],\n",
       "       [  6.02204409e-01],\n",
       "       [  6.04609218e-01],\n",
       "       [  6.07014028e-01],\n",
       "       [  6.09418838e-01],\n",
       "       [  6.11823647e-01],\n",
       "       [  6.14228457e-01],\n",
       "       [  6.16633267e-01],\n",
       "       [  6.19038076e-01],\n",
       "       [  6.21442886e-01],\n",
       "       [  6.23847695e-01],\n",
       "       [  6.26252505e-01],\n",
       "       [  6.28657315e-01],\n",
       "       [  6.31062124e-01],\n",
       "       [  6.33466934e-01],\n",
       "       [  6.35871743e-01],\n",
       "       [  6.38276553e-01],\n",
       "       [  6.40681363e-01],\n",
       "       [  6.43086172e-01],\n",
       "       [  6.45490982e-01],\n",
       "       [  6.47895792e-01],\n",
       "       [  6.50300601e-01],\n",
       "       [  6.52705411e-01],\n",
       "       [  6.55110220e-01],\n",
       "       [  6.57515030e-01],\n",
       "       [  6.59919840e-01],\n",
       "       [  6.62324649e-01],\n",
       "       [  6.64729459e-01],\n",
       "       [  6.67134269e-01],\n",
       "       [  6.69539078e-01],\n",
       "       [  6.71943888e-01],\n",
       "       [  6.74348697e-01],\n",
       "       [  6.76753507e-01],\n",
       "       [  6.79158317e-01],\n",
       "       [  6.81563126e-01],\n",
       "       [  6.83967936e-01],\n",
       "       [  6.86372745e-01],\n",
       "       [  6.88777555e-01],\n",
       "       [  6.91182365e-01],\n",
       "       [  6.93587174e-01],\n",
       "       [  6.95991984e-01],\n",
       "       [  6.98396794e-01],\n",
       "       [  7.00801603e-01],\n",
       "       [  7.03206413e-01],\n",
       "       [  7.05611222e-01],\n",
       "       [  7.08016032e-01],\n",
       "       [  7.10420842e-01],\n",
       "       [  7.12825651e-01],\n",
       "       [  7.15230461e-01],\n",
       "       [  7.17635271e-01],\n",
       "       [  7.20040080e-01],\n",
       "       [  7.22444890e-01],\n",
       "       [  7.24849699e-01],\n",
       "       [  7.27254509e-01],\n",
       "       [  7.29659319e-01],\n",
       "       [  7.32064128e-01],\n",
       "       [  7.34468938e-01],\n",
       "       [  7.36873747e-01],\n",
       "       [  7.39278557e-01],\n",
       "       [  7.41683367e-01],\n",
       "       [  7.44088176e-01],\n",
       "       [  7.46492986e-01],\n",
       "       [  7.48897796e-01],\n",
       "       [  7.51302605e-01],\n",
       "       [  7.53707415e-01],\n",
       "       [  7.56112224e-01],\n",
       "       [  7.58517034e-01],\n",
       "       [  7.60921844e-01],\n",
       "       [  7.63326653e-01],\n",
       "       [  7.65731463e-01],\n",
       "       [  7.68136273e-01],\n",
       "       [  7.70541082e-01],\n",
       "       [  7.72945892e-01],\n",
       "       [  7.75350701e-01],\n",
       "       [  7.77755511e-01],\n",
       "       [  7.80160321e-01],\n",
       "       [  7.82565130e-01],\n",
       "       [  7.84969940e-01],\n",
       "       [  7.87374749e-01],\n",
       "       [  7.89779559e-01],\n",
       "       [  7.92184369e-01],\n",
       "       [  7.94589178e-01],\n",
       "       [  7.96993988e-01],\n",
       "       [  7.99398798e-01],\n",
       "       [  8.01803607e-01],\n",
       "       [  8.04208417e-01],\n",
       "       [  8.06613226e-01],\n",
       "       [  8.09018036e-01],\n",
       "       [  8.11422846e-01],\n",
       "       [  8.13827655e-01],\n",
       "       [  8.16232465e-01],\n",
       "       [  8.18637275e-01],\n",
       "       [  8.21042084e-01],\n",
       "       [  8.23446894e-01],\n",
       "       [  8.25851703e-01],\n",
       "       [  8.28256513e-01],\n",
       "       [  8.30661323e-01],\n",
       "       [  8.33066132e-01],\n",
       "       [  8.35470942e-01],\n",
       "       [  8.37875752e-01],\n",
       "       [  8.40280561e-01],\n",
       "       [  8.42685371e-01],\n",
       "       [  8.45090180e-01],\n",
       "       [  8.47494990e-01],\n",
       "       [  8.49899800e-01],\n",
       "       [  8.52304609e-01],\n",
       "       [  8.54709419e-01],\n",
       "       [  8.57114228e-01],\n",
       "       [  8.59519038e-01],\n",
       "       [  8.61923848e-01],\n",
       "       [  8.64328657e-01],\n",
       "       [  8.66733467e-01],\n",
       "       [  8.69138277e-01],\n",
       "       [  8.71543086e-01],\n",
       "       [  8.73947896e-01],\n",
       "       [  8.76352705e-01],\n",
       "       [  8.78757515e-01],\n",
       "       [  8.81162325e-01],\n",
       "       [  8.83567134e-01],\n",
       "       [  8.85971944e-01],\n",
       "       [  8.88376754e-01],\n",
       "       [  8.90781563e-01],\n",
       "       [  8.93186373e-01],\n",
       "       [  8.95591182e-01],\n",
       "       [  8.97995992e-01],\n",
       "       [  9.00400802e-01],\n",
       "       [  9.02805611e-01],\n",
       "       [  9.05210421e-01],\n",
       "       [  9.07615230e-01],\n",
       "       [  9.10020040e-01],\n",
       "       [  9.12424850e-01],\n",
       "       [  9.14829659e-01],\n",
       "       [  9.17234469e-01],\n",
       "       [  9.19639279e-01],\n",
       "       [  9.22044088e-01],\n",
       "       [  9.24448898e-01],\n",
       "       [  9.26853707e-01],\n",
       "       [  9.29258517e-01],\n",
       "       [  9.31663327e-01],\n",
       "       [  9.34068136e-01],\n",
       "       [  9.36472946e-01],\n",
       "       [  9.38877756e-01],\n",
       "       [  9.41282565e-01],\n",
       "       [  9.43687375e-01],\n",
       "       [  9.46092184e-01],\n",
       "       [  9.48496994e-01],\n",
       "       [  9.50901804e-01],\n",
       "       [  9.53306613e-01],\n",
       "       [  9.55711423e-01],\n",
       "       [  9.58116232e-01],\n",
       "       [  9.60521042e-01],\n",
       "       [  9.62925852e-01],\n",
       "       [  9.65330661e-01],\n",
       "       [  9.67735471e-01],\n",
       "       [  9.70140281e-01],\n",
       "       [  9.72545090e-01],\n",
       "       [  9.74949900e-01],\n",
       "       [  9.77354709e-01],\n",
       "       [  9.79759519e-01],\n",
       "       [  9.82164329e-01],\n",
       "       [  9.84569138e-01],\n",
       "       [  9.86973948e-01],\n",
       "       [  9.89378758e-01],\n",
       "       [  9.91783567e-01],\n",
       "       [  9.94188377e-01],\n",
       "       [  9.96593186e-01],\n",
       "       [  9.98997996e-01],\n",
       "       [  1.00140281e+00],\n",
       "       [  1.00380762e+00],\n",
       "       [  1.00621242e+00],\n",
       "       [  1.00861723e+00],\n",
       "       [  1.01102204e+00],\n",
       "       [  1.01342685e+00],\n",
       "       [  1.01583166e+00],\n",
       "       [  1.01823647e+00],\n",
       "       [  1.02064128e+00],\n",
       "       [  1.02304609e+00],\n",
       "       [  1.02545090e+00],\n",
       "       [  1.02785571e+00],\n",
       "       [  1.03026052e+00],\n",
       "       [  1.03266533e+00],\n",
       "       [  1.03507014e+00],\n",
       "       [  1.03747495e+00],\n",
       "       [  1.03987976e+00],\n",
       "       [  1.04228457e+00],\n",
       "       [  1.04468938e+00],\n",
       "       [  1.04709419e+00],\n",
       "       [  1.04949900e+00],\n",
       "       [  1.05190381e+00],\n",
       "       [  1.05430862e+00],\n",
       "       [  1.05671343e+00],\n",
       "       [  1.05911824e+00],\n",
       "       [  1.06152305e+00],\n",
       "       [  1.06392786e+00],\n",
       "       [  1.06633267e+00],\n",
       "       [  1.06873747e+00],\n",
       "       [  1.07114228e+00],\n",
       "       [  1.07354709e+00],\n",
       "       [  1.07595190e+00],\n",
       "       [  1.07835671e+00],\n",
       "       [  1.08076152e+00],\n",
       "       [  1.08316633e+00],\n",
       "       [  1.08557114e+00],\n",
       "       [  1.08797595e+00],\n",
       "       [  1.09038076e+00],\n",
       "       [  1.09278557e+00],\n",
       "       [  1.09519038e+00],\n",
       "       [  1.09759519e+00],\n",
       "       [  1.10000000e+00]])"
      ]
     },
     "execution_count": 35,
     "metadata": {},
     "output_type": "execute_result"
    }
   ],
   "source": [
    "X_test = np.linspace(-0.1, 1.1, 500)[:,None]\n",
    "X_test"
   ]
  },
  {
   "cell_type": "code",
   "execution_count": 36,
   "metadata": {},
   "outputs": [
    {
     "data": {
      "text/plain": [
       "<matplotlib.legend.Legend at 0x23995571400>"
      ]
     },
     "execution_count": 36,
     "metadata": {},
     "output_type": "execute_result"
    },
    {
     "data": {
      "image/png": "[encoded data removed]",
      "text/plain": [
       "<matplotlib.figure.Figure at 0x239955712e8>"
      ]
     },
     "metadata": {},
     "output_type": "display_data"
    }
   ],
   "source": [
    "plt.scatter(X.ravel(),y)\n",
    "\n",
    "\n",
    "# f = PolynomialFeatures(3)\n",
    "# g = f.fit_transform(X)\n",
    "# LinearRegression().fit(g).predict(X_test)\n",
    "\n",
    "axis = plt.axis()\n",
    "for degree in [1,3,5,7,9]:\n",
    "    y_predict = Polynomialregression(degree).fit(X,y).predict(X_test)\n",
    "    plt.plot(X_test.ravel(), y_predict, label='degree{0}'.format(degree))\n",
    "plt.legend()\n"
   ]
  },
  {
   "cell_type": "code",
   "execution_count": 43,
   "metadata": {},
   "outputs": [
    {
     "data": {
      "text/plain": [
       "(40, 7)"
      ]
     },
     "execution_count": 43,
     "metadata": {},
     "output_type": "execute_result"
    }
   ],
   "source": [
    "from sklearn.learning_curve import validation_curve\n",
    "degree = np.arange(0, 40)\n",
    "\n",
    "train_score, val_score = validation_curve(Polynomialregression(), X, y,\n",
    "                                           'polynomialfeatures__degree',degree, cv=7)\n",
    "#train_score\n",
    "val_score.shape"
   ]
  },
  {
   "cell_type": "code",
   "execution_count": 98,
   "metadata": {},
   "outputs": [
    {
     "data": {
      "text/plain": [
       "<matplotlib.legend.Legend at 0x28e579ff0b8>"
      ]
     },
     "execution_count": 98,
     "metadata": {},
     "output_type": "execute_result"
    },
    {
     "data": {
      "image/png": "[encoded data removed]",
      "text/plain": [
       "<matplotlib.figure.Figure at 0x28e57991ef0>"
      ]
     },
     "metadata": {},
     "output_type": "display_data"
    }
   ],
   "source": [
    "plt.plot(degree, np.median(train_score, 1), color='blue', label='training score')\n",
    "plt.plot(degree, np.median(val_score, 1), color='red', label='validation score')\n",
    "plt.ylim(0, 1)\n",
    "plt.xlabel('degree')\n",
    "plt.ylabel('score');\n",
    "plt.legend(loc='best')"
   ]
  },
  {
   "cell_type": "code",
   "execution_count": 102,
   "metadata": {},
   "outputs": [
    {
     "data": {
      "text/plain": [
       "array([ 0.        ,  0.72060505,  0.8966661 ,  0.93273606,  0.94641559,\n",
       "        0.94706837,  0.94928043,  0.95034312,  0.95126473,  0.9527462 ,\n",
       "        0.95316414,  0.95410179,  0.95812976,  0.9604493 ,  0.96155007,\n",
       "        0.9618062 ,  0.96182216,  0.96184623,  0.96687145,  0.9678368 ,\n",
       "        0.96778453,  0.96888191,  0.970485  ,  0.97100495,  0.97131671,\n",
       "        0.97125767,  0.97121672,  0.97119128,  0.97230487,  0.97217105,\n",
       "        0.97214214,  0.97203387,  0.97194456,  0.9718033 ,  0.97226741,\n",
       "        0.97317902,  0.97301882,  0.97302668,  0.97297906,  0.97306376])"
      ]
     },
     "execution_count": 102,
     "metadata": {},
     "output_type": "execute_result"
    }
   ],
   "source": [
    "np.median(train_score,1)"
   ]
  },
  {
   "cell_type": "code",
   "execution_count": 44,
   "metadata": {},
   "outputs": [
    {
     "data": {
      "text/plain": [
       "array([[ -6.02466431e-01,  -2.04614785e-03,  -5.14137165e-03,\n",
       "         -8.44803581e-02,  -4.34209330e-02,  -2.19189277e-01,\n",
       "         -9.45653840e-02],\n",
       "       [  5.92416799e-01,   5.29559153e-01,   7.80177836e-01,\n",
       "          4.90099122e-01,   7.65084790e-01,   5.23537792e-01,\n",
       "          7.97400923e-01],\n",
       "       [  8.21356267e-01,   8.91899565e-01,   9.63735832e-01,\n",
       "          8.12954575e-01,   9.34237748e-01,   8.07794396e-01,\n",
       "          8.03377916e-01],\n",
       "       [  9.22981319e-01,   8.39169589e-01,   9.25097408e-01,\n",
       "          7.18687501e-01,   9.67829358e-01,   9.54962840e-01,\n",
       "          8.69251017e-01],\n",
       "       [  9.54819134e-01,   7.91223630e-01,   9.15321765e-01,\n",
       "          7.95571682e-01,   9.66332483e-01,   9.39546731e-01,\n",
       "          9.18081789e-01],\n",
       "       [  9.45669360e-01,   8.06116964e-01,   9.17385973e-01,\n",
       "          7.95498157e-01,   9.72705217e-01,   9.17507421e-01,\n",
       "          9.22752226e-01],\n",
       "       [  9.38122499e-01,   8.16336020e-01,   9.11370295e-01,\n",
       "          7.19190700e-01,   9.64640736e-01,   9.22032139e-01,\n",
       "          9.03793571e-01],\n",
       "       [  9.36213547e-01,   8.05548423e-01,   9.15423848e-01,\n",
       "          7.53582300e-01,   9.66053223e-01,   9.34533243e-01,\n",
       "          8.80973968e-01],\n",
       "       [  9.36249080e-01,   8.05676654e-01,   9.01567661e-01,\n",
       "          4.80963787e-01,   9.64383200e-01,   7.33043976e-01,\n",
       "          8.80885405e-01],\n",
       "       [  9.20967490e-01,   8.16951352e-01,   9.04963972e-01,\n",
       "          8.01498518e-01,   9.75682529e-01,   8.95313224e-01,\n",
       "          8.82009109e-01],\n",
       "       [  9.21979022e-01,   8.02205955e-01,   9.09136003e-01,\n",
       "         -5.04051601e+00,   9.69510148e-01,  -6.35767066e-01,\n",
       "          8.96645807e-01],\n",
       "       [  9.06899128e-01,   7.95781424e-01,   9.07676881e-01,\n",
       "         -1.68138554e+01,   8.94123926e-01,  -1.23425214e+01,\n",
       "          8.97051711e-01],\n",
       "       [  8.74719246e-01,   8.23102677e-01,   9.13583375e-01,\n",
       "         -3.96563699e+01,   9.63098291e-01,  -9.06429445e+00,\n",
       "          9.10831249e-01],\n",
       "       [  8.68282648e-01,   8.23862227e-01,   9.03245316e-01,\n",
       "         -7.05831009e+03,   9.51865735e-01,  -5.53441911e+00,\n",
       "          6.59938466e-01],\n",
       "       [  8.72688613e-01,   8.29637186e-01,   8.54825716e-01,\n",
       "         -5.45617526e+03,  -2.68004816e-01,  -1.28630025e+03,\n",
       "          6.13075196e-01],\n",
       "       [  8.70583640e-01,   8.37594537e-01,   8.78611128e-01,\n",
       "         -5.24519836e+04,  -7.62118706e+00,  -1.88084311e+02,\n",
       "          3.55178337e-01],\n",
       "       [  8.67523085e-01,   8.18435931e-01,   7.05089400e-01,\n",
       "         -2.70689355e+05,  -3.01614143e+01,  -2.11884886e+04,\n",
       "          4.24080660e-01],\n",
       "       [  8.63970683e-01,   6.99184025e-01,  -5.74505481e-01,\n",
       "         -2.77744559e+02,  -4.92677848e+01,  -9.33322458e+03,\n",
       "          8.04363815e-01],\n",
       "       [  8.64222271e-01,  -3.51314480e-01,  -1.66321869e+00,\n",
       "         -1.20222885e+09,  -7.31731301e+05,  -3.79551309e+04,\n",
       "         -9.86385361e+02],\n",
       "       [  2.36585216e-01,  -9.15398089e-01,  -2.14557771e+00,\n",
       "         -3.59574233e+09,  -1.84111418e+06,  -1.23720889e+08,\n",
       "         -1.86537709e+03],\n",
       "       [ -2.15783702e-01,  -9.28715321e-01,  -2.27283745e+00,\n",
       "         -8.92012451e+10,  -2.97965472e+07,  -3.65281841e+08,\n",
       "         -3.44467090e+03],\n",
       "       [ -7.61731859e-01,  -9.21911100e-01,  -1.45035455e+00,\n",
       "         -1.40097570e+11,  -4.71601516e+07,  -1.02364695e+09,\n",
       "         -3.56678456e+03],\n",
       "       [ -3.88055888e+00,   2.82933727e-01,  -1.30779899e+00,\n",
       "         -2.09005105e+11,  -6.74052261e+07,  -2.82257961e+09,\n",
       "         -3.22748617e+03],\n",
       "       [ -4.02686212e+00,   2.80361769e-01,  -1.17895025e+00,\n",
       "         -3.01783927e+11,  -9.04859517e+07,  -4.50947823e+11,\n",
       "         -2.41126323e+03],\n",
       "       [ -4.13919956e+00,   2.56905107e-01,  -1.04641168e+00,\n",
       "         -4.09655677e+11,  -1.17986016e+08,  -8.22047057e+11,\n",
       "         -8.04991898e+04],\n",
       "       [ -4.22686703e+00,   2.25888279e-01,  -9.19497287e-01,\n",
       "         -2.97949663e+11,  -1.20042266e+09,  -1.28810135e+12,\n",
       "         -1.44532946e+05],\n",
       "       [ -4.27576459e+00,   1.85758586e-01,  -7.79450005e-01,\n",
       "         -6.53376749e+11,  -1.48310457e+09,  -2.07630471e+12,\n",
       "         -2.65837158e+05],\n",
       "       [ -4.29243869e+00,  -7.44218673e-01,  -6.42414714e-01,\n",
       "         -1.85171769e+12,  -1.62662067e+09,  -3.23492889e+12,\n",
       "         -3.75853377e+05],\n",
       "       [  6.84695547e-01,  -6.57652987e-01,  -5.07664251e-01,\n",
       "         -4.58630569e+12,  -1.68966401e+09,  -4.86241287e+12,\n",
       "         -4.81110542e+05],\n",
       "       [  8.31668914e-01,  -5.61096000e-01,  -3.73956679e-01,\n",
       "         -9.60578506e+13,  -1.92796611e+09,  -7.05472465e+12,\n",
       "         -4.50666999e+05],\n",
       "       [  8.82547967e-01,  -5.01102624e-01,  -1.89900323e+00,\n",
       "         -1.43803995e+14,  -1.80663653e+09,  -2.94346983e+12,\n",
       "         -4.38541723e+05],\n",
       "       [  8.76673911e-01,  -4.45244591e-01,  -3.94750295e+00,\n",
       "         -2.11946101e+14,  -2.03139491e+09,  -5.97136057e+11,\n",
       "         -4.44426700e+05],\n",
       "       [  8.53704067e-01,  -3.85228537e-01,  -9.35720173e+00,\n",
       "         -3.61681021e+14,  -1.85318934e+09,  -9.55038308e+12,\n",
       "         -4.56028461e+05],\n",
       "       [  8.78813563e-01,  -3.63658904e-01,  -8.80362658e+00,\n",
       "         -4.06889180e+14,  -3.36167170e+09,  -3.37995489e+13,\n",
       "         -4.79746217e+05],\n",
       "       [ -7.80597232e+00,  -3.36217794e-01,  -1.65712657e+01,\n",
       "         -8.68883087e+14,  -3.04858494e+09,  -5.90562884e+13,\n",
       "         -5.13599495e+05],\n",
       "       [ -8.15183009e+00,  -3.11881835e-01,  -2.04955499e+01,\n",
       "         -1.30569850e+15,  -1.22945915e+09,  -8.85931751e+13,\n",
       "         -5.68601042e+05],\n",
       "       [ -5.25502481e+00,  -9.38529106e-01,  -1.87059468e+01,\n",
       "         -2.12695127e+15,  -1.39277006e+09,  -1.23987022e+14,\n",
       "         -6.46712476e+05],\n",
       "       [ -2.99552017e+00,  -9.39833145e-01,  -3.27303383e+01,\n",
       "         -3.03075671e+15,  -1.58096254e+09,  -3.22560164e+15,\n",
       "         -7.20072519e+05],\n",
       "       [ -1.61630718e+00,  -8.22771983e-01,  -3.67572715e+01,\n",
       "         -4.71827824e+15,  -1.62857935e+09,  -2.69473563e+15,\n",
       "         -7.97095343e+05],\n",
       "       [ -4.49838106e-01,  -7.25151425e-01,  -4.12590817e+01,\n",
       "         -7.15222472e+15,  -1.68168712e+09,  -5.39889221e+15,\n",
       "         -8.72690666e+05]])"
      ]
     },
     "execution_count": 44,
     "metadata": {},
     "output_type": "execute_result"
    }
   ],
   "source": [
    "val_score"
   ]
  },
  {
   "cell_type": "code",
   "execution_count": 100,
   "metadata": {},
   "outputs": [
    {
     "data": {
      "text/plain": [
       "3"
      ]
     },
     "execution_count": 100,
     "metadata": {},
     "output_type": "execute_result"
    }
   ],
   "source": [
    "np.argmax(np.median(val_score, 1))"
   ]
  },
  {
   "cell_type": "code",
   "execution_count": 101,
   "metadata": {},
   "outputs": [
    {
     "name": "stdout",
     "output_type": "stream",
     "text": [
      "Help on function median in module numpy.lib.function_base:\n",
      "\n",
      "median(a, axis=None, out=None, overwrite_input=False, keepdims=False)\n",
      "    Compute the median along the specified axis.\n",
      "    \n",
      "    Returns the median of the array elements.\n",
      "    \n",
      "    Parameters\n",
      "    ----------\n",
      "    a : array_like\n",
      "        Input array or object that can be converted to an array.\n",
      "    axis : {int, sequence of int, None}, optional\n",
      "        Axis or axes along which the medians are computed. The default\n",
      "        is to compute the median along a flattened version of the array.\n",
      "        A sequence of axes is supported since version 1.9.0.\n",
      "    out : ndarray, optional\n",
      "        Alternative output array in which to place the result. It must\n",
      "        have the same shape and buffer length as the expected output,\n",
      "        but the type (of the output) will be cast if necessary.\n",
      "    overwrite_input : bool, optional\n",
      "       If True, then allow use of memory of input array `a` for\n",
      "       calculations. The input array will be modified by the call to\n",
      "       `median`. This will save memory when you do not need to preserve\n",
      "       the contents of the input array. Treat the input as undefined,\n",
      "       but it will probably be fully or partially sorted. Default is\n",
      "       False. If `overwrite_input` is ``True`` and `a` is not already an\n",
      "       `ndarray`, an error will be raised.\n",
      "    keepdims : bool, optional\n",
      "        If this is set to True, the axes which are reduced are left\n",
      "        in the result as dimensions with size one. With this option,\n",
      "        the result will broadcast correctly against the original `arr`.\n",
      "    \n",
      "        .. versionadded:: 1.9.0\n",
      "    \n",
      "    Returns\n",
      "    -------\n",
      "    median : ndarray\n",
      "        A new array holding the result. If the input contains integers\n",
      "        or floats smaller than ``float64``, then the output data-type is\n",
      "        ``np.float64``.  Otherwise, the data-type of the output is the\n",
      "        same as that of the input. If `out` is specified, that array is\n",
      "        returned instead.\n",
      "    \n",
      "    See Also\n",
      "    --------\n",
      "    mean, percentile\n",
      "    \n",
      "    Notes\n",
      "    -----\n",
      "    Given a vector ``V`` of length ``N``, the median of ``V`` is the\n",
      "    middle value of a sorted copy of ``V``, ``V_sorted`` - i\n",
      "    e., ``V_sorted[(N-1)/2]``, when ``N`` is odd, and the average of the\n",
      "    two middle values of ``V_sorted`` when ``N`` is even.\n",
      "    \n",
      "    Examples\n",
      "    --------\n",
      "    >>> a = np.array([[10, 7, 4], [3, 2, 1]])\n",
      "    >>> a\n",
      "    array([[10,  7,  4],\n",
      "           [ 3,  2,  1]])\n",
      "    >>> np.median(a)\n",
      "    3.5\n",
      "    >>> np.median(a, axis=0)\n",
      "    array([ 6.5,  4.5,  2.5])\n",
      "    >>> np.median(a, axis=1)\n",
      "    array([ 7.,  2.])\n",
      "    >>> m = np.median(a, axis=0)\n",
      "    >>> out = np.zeros_like(m)\n",
      "    >>> np.median(a, axis=0, out=m)\n",
      "    array([ 6.5,  4.5,  2.5])\n",
      "    >>> m\n",
      "    array([ 6.5,  4.5,  2.5])\n",
      "    >>> b = a.copy()\n",
      "    >>> np.median(b, axis=1, overwrite_input=True)\n",
      "    array([ 7.,  2.])\n",
      "    >>> assert not np.all(a==b)\n",
      "    >>> b = a.copy()\n",
      "    >>> np.median(b, axis=None, overwrite_input=True)\n",
      "    3.5\n",
      "    >>> assert not np.all(a==b)\n",
      "\n"
     ]
    }
   ],
   "source": [
    "help(np.median)"
   ]
  },
  {
   "cell_type": "code",
   "execution_count": 103,
   "metadata": {},
   "outputs": [
    {
     "data": {
      "text/plain": [
       "array([[ 0.        ,  0.        ,  0.        ,  0.        ,  0.        ,\n",
       "         0.        ,  0.        ],\n",
       "       [ 0.72060505,  0.73235327,  0.71615237,  0.75517775,  0.6979951 ,\n",
       "         0.74351307,  0.71104367],\n",
       "       [ 0.8966661 ,  0.89427274,  0.88460403,  0.90482859,  0.87685741,\n",
       "         0.90106431,  0.90420325],\n",
       "       [ 0.92830604,  0.93586649,  0.93273606,  0.95501615,  0.91919623,\n",
       "         0.92673491,  0.9402878 ],\n",
       "       [ 0.9386132 ,  0.94947024,  0.94775706,  0.9632512 ,  0.93425141,\n",
       "         0.94148127,  0.94641559],\n",
       "       [ 0.94121068,  0.94988755,  0.94891078,  0.9637873 ,  0.93481636,\n",
       "         0.94464031,  0.94706837],\n",
       "       [ 0.94280027,  0.95011515,  0.95028793,  0.96555698,  0.93622172,\n",
       "         0.94504929,  0.94928043],\n",
       "       [ 0.94465044,  0.95166164,  0.95034312,  0.96584535,  0.93731514,\n",
       "         0.94571392,  0.95274503],\n",
       "       [ 0.94465097,  0.95169173,  0.95126473,  0.96709791,  0.93735454,\n",
       "         0.9484231 ,  0.95274521],\n",
       "       [ 0.94935834,  0.9537075 ,  0.95317786,  0.96799601,  0.93964532,\n",
       "         0.9490145 ,  0.9527462 ],\n",
       "       [ 0.94936121,  0.95532262,  0.95403569,  0.97143334,  0.94283046,\n",
       "         0.95302621,  0.95316414],\n",
       "       [ 0.95004308,  0.95545384,  0.95410179,  0.97176131,  0.94606336,\n",
       "         0.95487769,  0.95317637],\n",
       "       [ 0.95800395,  0.95952176,  0.95867405,  0.97180582,  0.94724875,\n",
       "         0.95489589,  0.95812976],\n",
       "       [ 0.96018866,  0.960872  ,  0.9604493 ,  0.9761954 ,  0.94796879,\n",
       "         0.95489902,  0.96158139],\n",
       "       [ 0.96062421,  0.96155007,  0.96186498,  0.97705999,  0.94977215,\n",
       "         0.95582416,  0.96158537],\n",
       "       [ 0.9618062 ,  0.96211504,  0.96199219,  0.97734911,  0.95020002,\n",
       "         0.95586153,  0.96163618],\n",
       "       [ 0.96182216,  0.96288239,  0.96295941,  0.97858439,  0.95024067,\n",
       "         0.95608855,  0.96170853],\n",
       "       [ 0.96184623,  0.96412665,  0.97046422,  0.97865443,  0.95024302,\n",
       "         0.95647158,  0.96181988],\n",
       "       [ 0.96186244,  0.96687145,  0.97311204,  0.9807113 ,  0.95893987,\n",
       "         0.95647733,  0.96849976],\n",
       "       [ 0.96650316,  0.9678368 ,  0.97346269,  0.9809658 ,  0.95992159,\n",
       "         0.95964836,  0.96889003],\n",
       "       [ 0.96778453,  0.96766185,  0.97365282,  0.98186821,  0.96347842,\n",
       "         0.95994565,  0.96905783],\n",
       "       [ 0.96888191,  0.96747122,  0.97612892,  0.98188266,  0.9638857 ,\n",
       "         0.96030359,  0.96904994],\n",
       "       [ 0.97150379,  0.970485  ,  0.97619919,  0.98188178,  0.96409231,\n",
       "         0.96074363,  0.96905881],\n",
       "       [ 0.97139909,  0.97100495,  0.97626913,  0.98187724,  0.96421221,\n",
       "         0.96660405,  0.9690835 ],\n",
       "       [ 0.97131671,  0.9715774 ,  0.97631303,  0.98187464,  0.96427995,\n",
       "         0.96705993,  0.96975731],\n",
       "       [ 0.97125767,  0.97219097,  0.97634924,  0.98187595,  0.9647336 ,\n",
       "         0.96733646,  0.96985413],\n",
       "       [ 0.97121672,  0.972883  ,  0.97638075,  0.9818746 ,  0.96463511,\n",
       "         0.96753333,  0.96994251],\n",
       "       [ 0.97119128,  0.97646583,  0.9764092 ,  0.98188059,  0.96455387,\n",
       "         0.96764421,  0.97001547],\n",
       "       [ 0.97230487,  0.97681993,  0.97643607,  0.9818958 ,  0.96449502,\n",
       "         0.96767422,  0.97003204],\n",
       "       [ 0.97217105,  0.97684975,  0.97646257,  0.98226876,  0.9644506 ,\n",
       "         0.96765398,  0.97002571],\n",
       "       [ 0.97214214,  0.97684167,  0.9771497 ,  0.98231412,  0.96441297,\n",
       "         0.96765365,  0.97002658],\n",
       "       [ 0.97203387,  0.9768003 ,  0.97748042,  0.98237771,  0.96439363,\n",
       "         0.96781164,  0.97002945],\n",
       "       [ 0.97194456,  0.97675233,  0.97753603,  0.98242747,  0.96437924,\n",
       "         0.96809904,  0.97003691],\n",
       "       [ 0.9718033 ,  0.97671235,  0.97762041,  0.98244916,  0.96436679,\n",
       "         0.96831991,  0.97004275],\n",
       "       [ 0.97226741,  0.97667031,  0.97775383,  0.98249175,  0.96436075,\n",
       "         0.96851367,  0.97004717],\n",
       "       [ 0.97317902,  0.97663472,  0.97781609,  0.98252908,  0.96435631,\n",
       "         0.96868717,  0.97005472],\n",
       "       [ 0.97301882,  0.97743466,  0.97795635,  0.9825558 ,  0.96435279,\n",
       "         0.9688025 ,  0.97005489],\n",
       "       [ 0.97302668,  0.97744983,  0.97814085,  0.98257375,  0.96435103,\n",
       "         0.9689858 ,  0.97006159],\n",
       "       [ 0.97297906,  0.97751011,  0.97824521,  0.98259806,  0.9643489 ,\n",
       "         0.97100908,  0.97006333],\n",
       "       [ 0.97306376,  0.97750468,  0.97836006,  0.98261442,  0.96434726,\n",
       "         0.96968511,  0.97006369]])"
      ]
     },
     "execution_count": 103,
     "metadata": {},
     "output_type": "execute_result"
    }
   ],
   "source": [
    "train_score"
   ]
  },
  {
   "cell_type": "code",
   "execution_count": 26,
   "metadata": {},
   "outputs": [
    {
     "name": "stdout",
     "output_type": "stream",
     "text": [
      "{'loc': 'Bangalore', 'age': 55, 'name': 'Awi'}\n",
      "Awi\n",
      "55 Bangalore\n",
      "{'myclass': '1oth', 'age': 55, 'loc': 'Bangalore'}\n",
      "1oth\n",
      "55 Bangalore\n"
     ]
    }
   ],
   "source": [
    "def fun(**kwargs):\n",
    "    print(kwargs)\n",
    "    if 'name' in kwargs:\n",
    "        print(kwargs['name'])\n",
    "        \n",
    "    if 'myclass' in kwargs:\n",
    "        print(kwargs['myclass'])\n",
    "        \n",
    "    print(kwargs['age'],kwargs['loc'])\n",
    "\n",
    "fun(name='Awi',age=55,loc='Bangalore')\n",
    "\n",
    "\n",
    "fun(myclass='1oth', age=55,loc='Bangalore')"
   ]
  },
  {
   "cell_type": "code",
   "execution_count": 25,
   "metadata": {},
   "outputs": [
    {
     "name": "stdout",
     "output_type": "stream",
     "text": [
      "('abc', 'def')\n",
      "('abc', 'def', 'ghi')\n"
     ]
    }
   ],
   "source": [
    "def myfun(*args):\n",
    "    print(args)\n",
    "    \n",
    "myfun('abc','def')\n",
    "myfun('abc','def','ghi')"
   ]
  },
  {
   "cell_type": "code",
   "execution_count": 45,
   "metadata": {
    "collapsed": true
   },
   "outputs": [],
   "source": [
    "from sklearn.model_selection import GridSearchCV"
   ]
  },
  {
   "cell_type": "code",
   "execution_count": 46,
   "metadata": {
    "collapsed": true
   },
   "outputs": [],
   "source": [
    "from sklearn.linear_model import Ridge"
   ]
  },
  {
   "cell_type": "code",
   "execution_count": 47,
   "metadata": {
    "collapsed": true
   },
   "outputs": [],
   "source": [
    "from sklearn.datasets import load_diabetes"
   ]
  },
  {
   "cell_type": "code",
   "execution_count": 48,
   "metadata": {
    "collapsed": true
   },
   "outputs": [],
   "source": [
    "dataset = load_diabetes()"
   ]
  },
  {
   "cell_type": "code",
   "execution_count": 52,
   "metadata": {},
   "outputs": [],
   "source": [
    "import numpy as np\n",
    "alphas = np.array([1,0.1,0.01,0.001,0.0001,0])"
   ]
  },
  {
   "cell_type": "code",
   "execution_count": 58,
   "metadata": {
    "collapsed": true
   },
   "outputs": [],
   "source": [
    "model = Ridge()\n",
    "# Ridge is a linear regression model"
   ]
  },
  {
   "cell_type": "code",
   "execution_count": 53,
   "metadata": {
    "collapsed": true
   },
   "outputs": [],
   "source": [
    "grid = GridSearchCV(estimator=model,param_grid=dict(alpha=alphas))"
   ]
  },
  {
   "cell_type": "code",
   "execution_count": 54,
   "metadata": {},
   "outputs": [
    {
     "data": {
      "text/plain": [
       "GridSearchCV(cv=None, error_score='raise',\n",
       "       estimator=Ridge(alpha=1.0, copy_X=True, fit_intercept=True, max_iter=None,\n",
       "   normalize=False, random_state=None, solver='auto', tol=0.001),\n",
       "       fit_params={}, iid=True, n_jobs=1,\n",
       "       param_grid={'alpha': array([  1.00000e+00,   1.00000e-01,   1.00000e-02,   1.00000e-03,\n",
       "         1.00000e-04,   0.00000e+00])},\n",
       "       pre_dispatch='2*n_jobs', refit=True, return_train_score=True,\n",
       "       scoring=None, verbose=0)"
      ]
     },
     "execution_count": 54,
     "metadata": {},
     "output_type": "execute_result"
    }
   ],
   "source": [
    "grid.fit(dataset.data, dataset.target)"
   ]
  },
  {
   "cell_type": "code",
   "execution_count": 55,
   "metadata": {},
   "outputs": [
    {
     "data": {
      "text/plain": [
       "0.48879020446060117"
      ]
     },
     "execution_count": 55,
     "metadata": {},
     "output_type": "execute_result"
    }
   ],
   "source": [
    "grid.best_score_"
   ]
  },
  {
   "cell_type": "code",
   "execution_count": 56,
   "metadata": {},
   "outputs": [
    {
     "data": {
      "text/plain": [
       "GridSearchCV(cv=None, error_score='raise',\n",
       "       estimator=Ridge(alpha=1.0, copy_X=True, fit_intercept=True, max_iter=None,\n",
       "   normalize=False, random_state=None, solver='auto', tol=0.001),\n",
       "       fit_params={}, iid=True, n_jobs=1,\n",
       "       param_grid={'alpha': array([  1.00000e+00,   1.00000e-01,   1.00000e-02,   1.00000e-03,\n",
       "         1.00000e-04,   0.00000e+00])},\n",
       "       pre_dispatch='2*n_jobs', refit=True, return_train_score=True,\n",
       "       scoring=None, verbose=0)"
      ]
     },
     "execution_count": 56,
     "metadata": {},
     "output_type": "execute_result"
    }
   ],
   "source": [
    "grid"
   ]
  },
  {
   "cell_type": "code",
   "execution_count": 57,
   "metadata": {},
   "outputs": [
    {
     "data": {
      "text/plain": [
       "{'alpha': 0.001}"
      ]
     },
     "execution_count": 57,
     "metadata": {},
     "output_type": "execute_result"
    }
   ],
   "source": [
    "grid.best_params_"
   ]
  },
  {
   "cell_type": "code",
   "execution_count": 59,
   "metadata": {
    "collapsed": true
   },
   "outputs": [],
   "source": [
    "from sklearn.neighbors import KNeighborsClassifier\n",
    "model = KNeighborsClassifier() # n_neighbors are hyperparameters\n",
    "n_neighbors = np.array([1,2,3,4])\n",
    "param_grid=dict(n_neighbors=n_neighbors)\n",
    "\n",
    "grid_iris = GridSearchCV(estimator=model, param_grid=param_grid)"
   ]
  },
  {
   "cell_type": "code",
   "execution_count": 61,
   "metadata": {},
   "outputs": [
    {
     "data": {
      "text/plain": [
       "GridSearchCV(cv=None, error_score='raise',\n",
       "       estimator=KNeighborsClassifier(algorithm='auto', leaf_size=30, metric='minkowski',\n",
       "           metric_params=None, n_jobs=1, n_neighbors=5, p=2,\n",
       "           weights='uniform'),\n",
       "       fit_params={}, iid=True, n_jobs=1,\n",
       "       param_grid={'n_neighbors': array([1, 2, 3, 4])},\n",
       "       pre_dispatch='2*n_jobs', refit=True, return_train_score=True,\n",
       "       scoring=None, verbose=0)"
      ]
     },
     "execution_count": 61,
     "metadata": {},
     "output_type": "execute_result"
    }
   ],
   "source": [
    "grid_iris.fit(iris.data,iris.target)"
   ]
  },
  {
   "cell_type": "code",
   "execution_count": 62,
   "metadata": {},
   "outputs": [
    {
     "data": {
      "text/plain": [
       "{'n_neighbors': 3}"
      ]
     },
     "execution_count": 62,
     "metadata": {},
     "output_type": "execute_result"
    }
   ],
   "source": [
    "grid_iris.best_params_"
   ]
  },
  {
   "cell_type": "code",
   "execution_count": 63,
   "metadata": {},
   "outputs": [
    {
     "data": {
      "text/plain": [
       "0.97999999999999998"
      ]
     },
     "execution_count": 63,
     "metadata": {},
     "output_type": "execute_result"
    }
   ],
   "source": [
    "grid_iris.best_score_"
   ]
  },
  {
   "cell_type": "code",
   "execution_count": null,
   "metadata": {
    "collapsed": true
   },
   "outputs": [],
   "source": []
  }
 ],
 "metadata": {
  "kernelspec": {
   "display_name": "Python 3",
   "language": "python",
   "name": "python3"
  },
  "language_info": {
   "codemirror_mode": {
    "name": "ipython",
    "version": 3
   },
   "file_extension": ".py",
   "mimetype": "text/x-python",
   "name": "python",
   "nbconvert_exporter": "python",
   "pygments_lexer": "ipython3",
   "version": "3.5.0"
  }
 },
 "nbformat": 4,
 "nbformat_minor": 2
}
