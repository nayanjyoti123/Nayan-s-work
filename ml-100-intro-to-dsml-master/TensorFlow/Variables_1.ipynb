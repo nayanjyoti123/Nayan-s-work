{
 "cells": [
  {
   "cell_type": "code",
   "execution_count": 1,
   "metadata": {
    "collapsed": true
   },
   "outputs": [],
   "source": [
    "import tensorflow as tf\n",
    "import numpy as np"
   ]
  },
  {
   "cell_type": "code",
   "execution_count": 2,
   "metadata": {
    "collapsed": true
   },
   "outputs": [],
   "source": [
    "def incr(k):\n",
    "    with tf.variable_scope(\"conv1\"):\n",
    "        tb = tf.get_variable(\"b\", (2,2), initializer=tf.constant_initializer(3))\n",
    "        x = tb\n",
    "        for _ in range(k):\n",
    "            #print(\"AG\")\n",
    "            x = x + 1\n",
    "        \n",
    "        tupdate = tf.assign(tb, x)\n",
    "        \n",
    "    return (tb, tupdate, x)"
   ]
  },
  {
   "cell_type": "code",
   "execution_count": 3,
   "metadata": {
    "collapsed": true
   },
   "outputs": [],
   "source": [
    "sess = tf.Session()"
   ]
  },
  {
   "cell_type": "code",
   "execution_count": 4,
   "metadata": {
    "collapsed": false
   },
   "outputs": [
    {
     "name": "stdout",
     "output_type": "stream",
     "text": [
      "ta : Tensor(\"Const:0\", shape=(2, 3), dtype=int32)\n"
     ]
    }
   ],
   "source": [
    "a = np.array([[2,3,4], [5,6,7]])\n",
    "ta = tf.convert_to_tensor(a)\n",
    "\n",
    "print(\"ta : {0}\".format(ta))"
   ]
  },
  {
   "cell_type": "code",
   "execution_count": 9,
   "metadata": {
    "collapsed": false
   },
   "outputs": [
    {
     "name": "stdout",
     "output_type": "stream",
     "text": [
      "tc : <tf.Variable 'c:0' shape=(3, 3) dtype=float32_ref>\n",
      "tc2 : Tensor(\"add_1:0\", shape=(3, 3), dtype=float32)\n",
      "tc3 : Tensor(\"Add_1:0\", shape=(3, 3), dtype=float32)\n",
      "update : Tensor(\"Assign_1:0\", shape=(3, 3), dtype=float32_ref)\n",
      "[[ 1.  1.  1.]\n",
      " [ 1.  1.  1.]\n",
      " [ 1.  1.  1.]]\n",
      "[[ 2.  2.  2.]\n",
      " [ 2.  2.  2.]\n",
      " [ 2.  2.  2.]]\n",
      "[[ 2.  2.  2.]\n",
      " [ 2.  2.  2.]\n",
      " [ 2.  2.  2.]]\n"
     ]
    }
   ],
   "source": [
    "tc = tf.get_variable(\"c\", (3,3), initializer=tf.constant_initializer(1))\n",
    "tc2 = tc + 1\n",
    "tc3 = tf.add(tc, tf.constant(1.0))\n",
    "update = tf.assign(tc, tc3)\n",
    "print(\"tc : {0}\".format(tc))\n",
    "print(\"tc2 : {0}\".format(tc2))\n",
    "print(\"tc3 : {0}\".format(tc3))\n",
    "print(\"update : {0}\".format(update))\n",
    "\n",
    "sess.run(tf.variables_initializer([tc]))\n",
    "print(sess.run(tc))\n",
    "print(sess.run(update))\n",
    "print(sess.run(tc))"
   ]
  },
  {
   "cell_type": "code",
   "execution_count": 6,
   "metadata": {
    "collapsed": false
   },
   "outputs": [
    {
     "name": "stdout",
     "output_type": "stream",
     "text": [
      "tb : <tf.Variable 'conv1/b:0' shape=(2, 2) dtype=float32_ref>\n",
      "tu : Tensor(\"conv1/Assign:0\", shape=(2, 2), dtype=float32_ref)\n",
      "tx : Tensor(\"conv1/add_9:0\", shape=(2, 2), dtype=float32)\n"
     ]
    }
   ],
   "source": [
    "tb, tu, tx = incr(10)\n",
    "print(\"tb : {0}\".format(tb))\n",
    "print(\"tu : {0}\".format(tu))\n",
    "print(\"tx : {0}\".format(tx))"
   ]
  },
  {
   "cell_type": "code",
   "execution_count": 7,
   "metadata": {
    "collapsed": false
   },
   "outputs": [
    {
     "name": "stdout",
     "output_type": "stream",
     "text": [
      "[[ 3.  3.]\n",
      " [ 3.  3.]]\n",
      "[[ 13.  13.]\n",
      " [ 13.  13.]]\n",
      "[[ 13.  13.]\n",
      " [ 13.  13.]]\n",
      "[[ 23.  23.]\n",
      " [ 23.  23.]]\n",
      "[[ 23.  23.]\n",
      " [ 23.  23.]]\n"
     ]
    }
   ],
   "source": [
    "sess.run(tf.variables_initializer([tb]))\n",
    "print(sess.run(tb))\n",
    "print(sess.run(tx))\n",
    "print(sess.run(tu))\n",
    "print(sess.run(tx))\n",
    "sess.run(tu)\n",
    "print(sess.run(tb))"
   ]
  },
  {
   "cell_type": "code",
   "execution_count": 8,
   "metadata": {
    "collapsed": false,
    "scrolled": false
   },
   "outputs": [
    {
     "name": "stdout",
     "output_type": "stream",
     "text": [
      "[[ 23.  23.]\n",
      " [ 23.  23.]]\n",
      "[[ 1023.  1023.]\n",
      " [ 1023.  1023.]]\n",
      "[[ 1023.  1023.]\n",
      " [ 1023.  1023.]]\n",
      "[[ 2023.  2023.]\n",
      " [ 2023.  2023.]]\n"
     ]
    }
   ],
   "source": [
    "tf.get_variable_scope().reuse_variables()\n",
    "tb2, tu2, tx2 = incr(1000)\n",
    "print(sess.run(tb2))\n",
    "print(sess.run(tu2))\n",
    "print(sess.run(tb2))\n",
    "print(sess.run(tx2))"
   ]
  },
  {
   "cell_type": "code",
   "execution_count": null,
   "metadata": {
    "collapsed": true
   },
   "outputs": [],
   "source": []
  }
 ],
 "metadata": {
  "kernelspec": {
   "display_name": "Python [conda env:py35]",
   "language": "python",
   "name": "conda-env-py35-py"
  },
  "language_info": {
   "codemirror_mode": {
    "name": "ipython",
    "version": 3
   },
   "file_extension": ".py",
   "mimetype": "text/x-python",
   "name": "python",
   "nbconvert_exporter": "python",
   "pygments_lexer": "ipython3",
   "version": "3.5.2"
  }
 },
 "nbformat": 4,
 "nbformat_minor": 2
}
