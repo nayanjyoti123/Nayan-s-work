{
 "cells": [
  {
   "cell_type": "markdown",
   "metadata": {
    "deletable": true,
    "editable": true
   },
   "source": [
    "# Data Visualization"
   ]
  },
  {
   "cell_type": "code",
   "execution_count": 1,
   "metadata": {
    "collapsed": true,
    "deletable": true,
    "editable": true
   },
   "outputs": [],
   "source": [
    "import numpy as np\n",
    "import seaborn\n",
    "import matplotlib.pyplot as plt"
   ]
  },
  {
   "cell_type": "code",
   "execution_count": 2,
   "metadata": {
    "collapsed": false,
    "deletable": true,
    "editable": true
   },
   "outputs": [],
   "source": [
    "# Define input data\n",
    "X_data_orig = np.arange(100, step=.1)\n",
    "y_data_orig = 2 * X_data_orig + 20 * np.sin(X_data_orig / 10)"
   ]
  },
  {
   "cell_type": "code",
   "execution_count": 3,
   "metadata": {
    "collapsed": false,
    "deletable": true,
    "editable": true
   },
   "outputs": [
    {
     "data": {
      "image/png": "[encoded data removed]",
      "text/plain": [
       "<matplotlib.figure.Figure at 0x7ff694017048>"
      ]
     },
     "metadata": {},
     "output_type": "display_data"
    }
   ],
   "source": [
    "# Plot input data\n",
    "plt.scatter(X_data_orig, y_data_orig)\n",
    "plt.show()"
   ]
  },
  {
   "cell_type": "markdown",
   "metadata": {
    "deletable": true,
    "editable": true
   },
   "source": [
    "# Setup"
   ]
  },
  {
   "cell_type": "code",
   "execution_count": 4,
   "metadata": {
    "collapsed": true,
    "deletable": true,
    "editable": true
   },
   "outputs": [],
   "source": [
    "import tensorflow as tf"
   ]
  },
  {
   "cell_type": "code",
   "execution_count": 5,
   "metadata": {
    "collapsed": true,
    "deletable": true,
    "editable": true
   },
   "outputs": [],
   "source": [
    "# Define data size and batch size\n",
    "n_samples = 1000\n",
    "batch_size = 100"
   ]
  },
  {
   "cell_type": "code",
   "execution_count": 6,
   "metadata": {
    "collapsed": false,
    "deletable": true,
    "editable": true
   },
   "outputs": [
    {
     "data": {
      "text/plain": [
       "(1000,)"
      ]
     },
     "execution_count": 6,
     "metadata": {},
     "output_type": "execute_result"
    }
   ],
   "source": [
    "X_data_orig.shape"
   ]
  },
  {
   "cell_type": "code",
   "execution_count": 7,
   "metadata": {
    "collapsed": true,
    "deletable": true,
    "editable": true
   },
   "outputs": [],
   "source": [
    "# Tensorflow is finicky about shapes, so resize\n",
    "X_data = np.reshape(X_data_orig, (n_samples,1))\n",
    "y_data = np.reshape(y_data_orig, (n_samples,1))"
   ]
  },
  {
   "cell_type": "code",
   "execution_count": 8,
   "metadata": {
    "collapsed": false,
    "deletable": true,
    "editable": true
   },
   "outputs": [
    {
     "data": {
      "text/plain": [
       "(1000, 1)"
      ]
     },
     "execution_count": 8,
     "metadata": {},
     "output_type": "execute_result"
    }
   ],
   "source": [
    "X_data.shape"
   ]
  },
  {
   "cell_type": "code",
   "execution_count": 9,
   "metadata": {
    "collapsed": false,
    "deletable": true,
    "editable": true
   },
   "outputs": [],
   "source": [
    "# Define placeholders for input\n",
    "X = tf.placeholder(tf.float32, shape=(batch_size, 1))\n",
    "y = tf.placeholder(tf.float32, shape=(batch_size, 1)) "
   ]
  },
  {
   "cell_type": "markdown",
   "metadata": {
    "deletable": true,
    "editable": true
   },
   "source": [
    "# Loss"
   ]
  },
  {
   "cell_type": "code",
   "execution_count": 10,
   "metadata": {
    "collapsed": true,
    "deletable": true,
    "editable": true
   },
   "outputs": [],
   "source": [
    "# Define variables to be learned\n",
    "with tf.variable_scope(\"linear-regression\"):\n",
    "    W = tf.get_variable(\"weights\", (1, 1), initializer=tf.random_normal_initializer())\n",
    "    b = tf.get_variable(\"bias\", (1,), initializer=tf.constant_initializer(0.0))\n",
    "    y_pred = tf.matmul(X, W) + b\n",
    "    loss = tf.reduce_sum((y - y_pred)**2 / batch_size)"
   ]
  },
  {
   "cell_type": "code",
   "execution_count": 11,
   "metadata": {
    "collapsed": false,
    "deletable": true,
    "editable": true
   },
   "outputs": [
    {
     "name": "stdout",
     "output_type": "stream",
     "text": [
      "Tensor(\"linear-regression/Sum:0\", shape=(), dtype=float32)\n"
     ]
    }
   ],
   "source": [
    "print(loss)"
   ]
  },
  {
   "cell_type": "markdown",
   "metadata": {
    "deletable": true,
    "editable": true
   },
   "source": [
    "# Optimization"
   ]
  },
  {
   "cell_type": "code",
   "execution_count": 12,
   "metadata": {
    "collapsed": true,
    "deletable": true,
    "editable": true
   },
   "outputs": [],
   "source": [
    "opt = tf.train.AdamOptimizer()\n",
    "opt_operation = opt.minimize(loss)"
   ]
  },
  {
   "cell_type": "code",
   "execution_count": 13,
   "metadata": {
    "collapsed": false,
    "deletable": true,
    "editable": true,
    "scrolled": false
   },
   "outputs": [
    {
     "name": "stdout",
     "output_type": "stream",
     "text": [
      "0,2592.027099609375\n",
      "1,2746.31396484375\n",
      "2,2883.228515625\n",
      "3,2601.2490234375\n",
      "4,2590.259033203125\n",
      "5,2500.719482421875\n",
      "6,2383.140380859375\n",
      "7,2606.800537109375\n",
      "8,2764.5498046875\n",
      "9,2927.833984375\n",
      "10,2286.773193359375\n",
      "11,2860.71240234375\n",
      "12,2859.0595703125\n",
      "13,3256.169189453125\n",
      "14,2556.731689453125\n",
      "15,2540.386474609375\n",
      "16,2820.3671875\n",
      "17,2679.13671875\n",
      "18,2676.046630859375\n",
      "19,2718.030517578125\n",
      "20,2715.46044921875\n",
      "21,2262.0673828125\n",
      "22,2194.141357421875\n",
      "23,2465.4248046875\n",
      "24,3008.172119140625\n",
      "25,2815.315673828125\n",
      "26,2823.13232421875\n",
      "27,2773.66455078125\n",
      "28,2450.80810546875\n",
      "29,2504.486572265625\n",
      "30,2379.336669921875\n",
      "31,2552.6328125\n",
      "32,2583.0849609375\n",
      "33,2372.33837890625\n",
      "34,2670.126220703125\n",
      "35,2268.368896484375\n",
      "36,2863.18115234375\n",
      "37,2531.943115234375\n",
      "38,2534.337158203125\n",
      "39,2571.929443359375\n",
      "40,2576.42236328125\n",
      "41,2239.21044921875\n",
      "42,2361.753662109375\n",
      "43,2932.85400390625\n",
      "44,2400.961669921875\n",
      "45,2296.12548828125\n",
      "46,2360.496337890625\n",
      "47,2072.106201171875\n",
      "48,2565.171875\n",
      "49,2240.2060546875\n",
      "50,2731.169189453125\n",
      "51,2256.553466796875\n",
      "52,2045.44287109375\n",
      "53,2637.9091796875\n",
      "54,2334.449462890625\n",
      "55,2782.98876953125\n",
      "56,2219.913330078125\n",
      "57,2688.131591796875\n",
      "58,2140.426513671875\n",
      "59,2216.45751953125\n",
      "60,2613.180419921875\n",
      "61,2566.6953125\n",
      "62,2108.38232421875\n",
      "63,2457.94970703125\n",
      "64,2685.277587890625\n",
      "65,2249.409423828125\n",
      "66,2412.522705078125\n",
      "67,2307.09326171875\n",
      "68,2493.38427734375\n",
      "69,2347.81689453125\n",
      "70,2293.830078125\n",
      "71,2333.01220703125\n",
      "72,2064.09521484375\n",
      "73,2138.821533203125\n",
      "74,2153.808837890625\n",
      "75,2651.51611328125\n",
      "76,2202.35302734375\n",
      "77,2201.85400390625\n",
      "78,2338.291748046875\n",
      "79,2593.888916015625\n",
      "80,2580.628173828125\n",
      "81,2479.38623046875\n",
      "82,2551.62890625\n",
      "83,1971.94287109375\n",
      "84,2306.101318359375\n",
      "85,2477.304931640625\n",
      "86,2524.245849609375\n",
      "87,2059.68017578125\n",
      "88,2097.619384765625\n",
      "89,2265.417724609375\n",
      "90,2541.60888671875\n",
      "91,1826.65625\n",
      "92,2346.19677734375\n",
      "93,2254.125732421875\n",
      "94,2317.39111328125\n",
      "95,2288.76025390625\n",
      "96,2254.113525390625\n",
      "97,1960.675048828125\n",
      "98,2193.41455078125\n",
      "99,2408.364013671875\n",
      "100,2019.98876953125\n",
      "101,1924.9471435546875\n",
      "102,1900.305908203125\n",
      "103,2142.811767578125\n",
      "104,1971.2801513671875\n",
      "105,1920.85791015625\n",
      "106,1831.193359375\n",
      "107,2017.68701171875\n",
      "108,2167.28759765625\n",
      "109,2305.15234375\n",
      "110,2592.063232421875\n",
      "111,1995.705322265625\n",
      "112,1984.42822265625\n",
      "113,2086.60400390625\n",
      "114,2141.754150390625\n",
      "115,2444.395263671875\n",
      "116,1751.826171875\n",
      "117,1751.9345703125\n",
      "118,2885.97216796875\n",
      "119,1815.2864990234375\n",
      "120,2218.97119140625\n",
      "121,2269.2587890625\n",
      "122,2222.46484375\n",
      "123,1873.484375\n",
      "124,1912.0142822265625\n",
      "125,2248.14990234375\n",
      "126,2511.600830078125\n",
      "127,2066.548095703125\n",
      "128,2018.7606201171875\n",
      "129,2262.853759765625\n",
      "130,1945.1661376953125\n",
      "131,1865.2008056640625\n",
      "132,2010.97802734375\n",
      "133,2224.691650390625\n",
      "134,1947.07666015625\n",
      "135,2087.234619140625\n",
      "136,1960.13330078125\n",
      "137,2236.638671875\n",
      "138,2325.797119140625\n",
      "139,1849.030029296875\n",
      "140,2403.91552734375\n",
      "141,1950.5150146484375\n",
      "142,2144.4970703125\n",
      "143,2160.172607421875\n",
      "144,2042.421630859375\n",
      "145,2177.67431640625\n",
      "146,1957.308837890625\n",
      "147,1900.7764892578125\n",
      "148,1567.7667236328125\n",
      "149,1988.5150146484375\n",
      "150,2100.45654296875\n",
      "151,1533.6015625\n",
      "152,1998.9365234375\n",
      "153,2287.53515625\n",
      "154,1997.134033203125\n",
      "155,1802.4368896484375\n",
      "156,2090.058349609375\n",
      "157,1911.9713134765625\n",
      "158,2102.745849609375\n",
      "159,2158.253173828125\n",
      "160,1433.9906005859375\n",
      "161,1611.61865234375\n",
      "162,1737.0081787109375\n",
      "163,1778.850341796875\n",
      "164,1922.531494140625\n",
      "165,2077.931640625\n",
      "166,1879.570556640625\n",
      "167,2066.34423828125\n",
      "168,2159.4365234375\n",
      "169,1704.0220947265625\n",
      "170,1657.46826171875\n",
      "171,1752.3292236328125\n",
      "172,2013.8272705078125\n",
      "173,1567.331298828125\n",
      "174,1954.66943359375\n",
      "175,1864.57763671875\n",
      "176,1950.414794921875\n",
      "177,1531.1298828125\n",
      "178,1818.628173828125\n",
      "179,1974.7716064453125\n",
      "180,1416.947509765625\n",
      "181,1776.10205078125\n",
      "182,1667.4425048828125\n",
      "183,1910.1124267578125\n",
      "184,2002.390380859375\n",
      "185,1807.2730712890625\n",
      "186,1614.039306640625\n",
      "187,1835.2515869140625\n",
      "188,1391.4649658203125\n",
      "189,1657.97314453125\n",
      "190,1400.291015625\n",
      "191,1933.199462890625\n",
      "192,1873.316650390625\n",
      "193,1587.965087890625\n",
      "194,2062.371337890625\n",
      "195,1461.49267578125\n",
      "196,1805.992919921875\n",
      "197,1766.121826171875\n",
      "198,1982.62353515625\n",
      "199,1661.302001953125\n",
      "200,1652.2950439453125\n",
      "201,1614.281494140625\n",
      "202,1729.8321533203125\n",
      "203,1781.13427734375\n",
      "204,1986.50634765625\n",
      "205,1972.9669189453125\n",
      "206,1607.93115234375\n",
      "207,1715.3829345703125\n",
      "208,1616.5106201171875\n",
      "209,1734.010986328125\n",
      "210,1678.3359375\n",
      "211,1900.4359130859375\n",
      "212,1727.6475830078125\n",
      "213,1806.029541015625\n",
      "214,1635.6051025390625\n",
      "215,1802.3038330078125\n",
      "216,1779.6258544921875\n",
      "217,1943.7489013671875\n",
      "218,1571.660888671875\n",
      "219,1634.689697265625\n",
      "220,1720.37353515625\n",
      "221,1440.2901611328125\n",
      "222,1916.927978515625\n",
      "223,1813.857666015625\n",
      "224,1569.358154296875\n",
      "225,1804.1683349609375\n",
      "226,1276.1920166015625\n",
      "227,1762.5499267578125\n",
      "228,1476.7652587890625\n",
      "229,1712.5384521484375\n",
      "230,1430.5587158203125\n",
      "231,1582.3692626953125\n",
      "232,1791.909912109375\n",
      "233,1741.5672607421875\n",
      "234,1857.20947265625\n",
      "235,1719.4434814453125\n",
      "236,1516.7198486328125\n",
      "237,1725.195556640625\n",
      "238,1791.8504638671875\n",
      "239,1497.6466064453125\n",
      "240,2068.777099609375\n",
      "241,1785.3922119140625\n",
      "242,1487.890869140625\n",
      "243,1271.3873291015625\n",
      "244,1483.2508544921875\n",
      "245,1429.878173828125\n",
      "246,1632.3507080078125\n",
      "247,1435.0150146484375\n",
      "248,1605.2667236328125\n",
      "249,1490.64892578125\n",
      "250,1903.404541015625\n",
      "251,1589.2525634765625\n",
      "252,1667.298583984375\n",
      "253,1859.2166748046875\n",
      "254,1456.216552734375\n",
      "255,1716.413330078125\n",
      "256,1601.2607421875\n",
      "257,1409.2969970703125\n",
      "258,1495.00830078125\n",
      "259,1463.759765625\n",
      "260,1266.5047607421875\n",
      "261,1634.8497314453125\n",
      "262,1533.5733642578125\n",
      "263,1485.9677734375\n",
      "264,1486.4193115234375\n",
      "265,1482.0091552734375\n",
      "266,1370.3419189453125\n",
      "267,1476.4111328125\n",
      "268,1594.76806640625\n",
      "269,1493.64794921875\n",
      "270,1355.936279296875\n",
      "271,1647.3260498046875\n",
      "272,1747.4913330078125\n",
      "273,1600.646484375\n",
      "274,1270.5123291015625\n",
      "275,1351.791259765625\n",
      "276,1680.22021484375\n",
      "277,1329.748779296875\n",
      "278,1398.1461181640625\n",
      "279,1165.613037109375\n",
      "280,1368.2357177734375\n",
      "281,1436.135009765625\n",
      "282,1658.8714599609375\n",
      "283,1393.2816162109375\n",
      "284,1493.51220703125\n",
      "285,1098.9598388671875\n",
      "286,1486.7880859375\n",
      "287,1252.3411865234375\n",
      "288,1510.7353515625\n",
      "289,1464.427734375\n",
      "290,1277.7440185546875\n",
      "291,1400.65283203125\n",
      "292,1290.089599609375\n",
      "293,1170.5550537109375\n",
      "294,1686.2867431640625\n",
      "295,1368.348876953125\n",
      "296,1386.3328857421875\n",
      "297,1376.1981201171875\n",
      "298,1504.922119140625\n",
      "299,1237.616943359375\n",
      "300,1481.464111328125\n",
      "301,1221.038818359375\n",
      "302,1241.6734619140625\n",
      "303,1349.3697509765625\n",
      "304,1361.3463134765625\n",
      "305,1233.0841064453125\n",
      "306,1159.5794677734375\n",
      "307,1180.7237548828125\n",
      "308,1275.7808837890625\n",
      "309,1268.6533203125\n",
      "310,1445.9359130859375\n",
      "311,1447.8519287109375\n",
      "312,1321.8223876953125\n",
      "313,1115.12060546875\n",
      "314,1425.971923828125\n",
      "315,1304.0615234375\n",
      "316,1270.298583984375\n",
      "317,1354.8958740234375\n",
      "318,1206.2777099609375\n",
      "319,1361.2830810546875\n",
      "320,1274.5606689453125\n",
      "321,1199.5487060546875\n",
      "322,1483.124755859375\n",
      "323,1414.5283203125\n",
      "324,1308.6087646484375\n",
      "325,1333.5347900390625\n",
      "326,1203.3165283203125\n",
      "327,1352.4949951171875\n",
      "328,1218.598388671875\n",
      "329,1370.728515625\n",
      "330,1112.139892578125\n",
      "331,1211.4390869140625\n",
      "332,1253.39111328125\n",
      "333,1240.1328125\n",
      "334,1318.9261474609375\n",
      "335,1171.202392578125\n",
      "336,1066.6788330078125\n",
      "337,1263.8118896484375\n",
      "338,1089.12939453125\n",
      "339,1466.419921875\n",
      "340,1305.326416015625\n",
      "341,1339.3154296875\n",
      "342,1171.308837890625\n",
      "343,1053.95849609375\n",
      "344,1496.5281982421875\n",
      "345,1080.720703125\n",
      "346,1269.1627197265625\n",
      "347,973.8109130859375\n",
      "348,1418.04052734375\n",
      "349,1117.9189453125\n",
      "350,1155.035888671875\n",
      "351,1281.392578125\n",
      "352,1185.527587890625\n",
      "353,1041.5640869140625\n",
      "354,1188.039306640625\n",
      "355,1223.3101806640625\n",
      "356,1105.418212890625\n",
      "357,1086.425048828125\n",
      "358,1191.884765625\n",
      "359,1299.3887939453125\n",
      "360,1215.4222412109375\n",
      "361,1149.8997802734375\n",
      "362,1131.0634765625\n",
      "363,1290.1563720703125\n",
      "364,1292.2291259765625\n",
      "365,1134.1607666015625\n",
      "366,1270.54443359375\n",
      "367,1187.7320556640625\n",
      "368,1197.0701904296875\n",
      "369,925.6972045898438\n",
      "370,1064.2830810546875\n",
      "371,1116.8572998046875\n",
      "372,1109.716064453125\n",
      "373,830.62451171875\n",
      "374,1306.1160888671875\n",
      "375,1166.0440673828125\n",
      "376,1279.8458251953125\n",
      "377,1293.131591796875\n",
      "378,1137.6396484375\n",
      "379,1147.009765625\n",
      "380,1138.90673828125\n",
      "381,928.302734375\n",
      "382,1162.0882568359375\n",
      "383,1165.76318359375\n",
      "384,1253.720703125\n",
      "385,912.0725708007812\n",
      "386,1242.612548828125\n",
      "387,1062.23291015625\n",
      "388,901.0516357421875\n",
      "389,1014.7747192382812\n",
      "390,1053.4525146484375\n",
      "391,944.207763671875\n",
      "392,1188.4759521484375\n",
      "393,1044.124755859375\n",
      "394,1361.1031494140625\n",
      "395,980.03466796875\n",
      "396,1049.1014404296875\n",
      "397,1264.1839599609375\n",
      "398,1273.241455078125\n",
      "399,1101.4100341796875\n",
      "400,990.61376953125\n",
      "401,964.496337890625\n",
      "402,1086.5888671875\n",
      "403,1226.6640625\n",
      "404,935.792724609375\n",
      "405,1066.399169921875\n",
      "406,1003.8925170898438\n",
      "407,1148.7276611328125\n",
      "408,1068.8544921875\n",
      "409,1177.8194580078125\n",
      "410,1113.2786865234375\n",
      "411,1054.2205810546875\n",
      "412,1042.281982421875\n",
      "413,926.6984252929688\n",
      "414,1079.1165771484375\n",
      "415,882.4086303710938\n",
      "416,1081.281005859375\n",
      "417,882.468017578125\n",
      "418,806.52490234375\n",
      "419,949.5409545898438\n",
      "420,1060.080810546875\n",
      "421,988.9468994140625\n",
      "422,1006.3497314453125\n",
      "423,831.9998779296875\n",
      "424,970.4776611328125\n",
      "425,1007.3781127929688\n",
      "426,1063.422607421875\n",
      "427,1028.6778564453125\n",
      "428,999.3843994140625\n",
      "429,979.1576538085938\n",
      "430,876.5204467773438\n",
      "431,928.9808959960938\n",
      "432,1110.02880859375\n",
      "433,978.9450073242188\n",
      "434,834.7954711914062\n",
      "435,1065.499755859375\n",
      "436,1136.263427734375\n",
      "437,863.0996704101562\n",
      "438,931.3597412109375\n",
      "439,1098.858642578125\n",
      "440,1015.1629028320312\n",
      "441,762.3494262695312\n",
      "442,1007.3317260742188\n",
      "443,1040.3638916015625\n",
      "444,903.0906372070312\n",
      "445,1092.82421875\n",
      "446,830.6754150390625\n",
      "447,953.379150390625\n",
      "448,1018.0965576171875\n",
      "449,1041.8616943359375\n",
      "450,905.0588989257812\n",
      "451,866.6773681640625\n",
      "452,904.8701782226562\n",
      "453,980.0315551757812\n",
      "454,949.3008422851562\n",
      "455,637.7996215820312\n",
      "456,944.6876220703125\n",
      "457,1018.70556640625\n",
      "458,968.0496215820312\n",
      "459,833.091796875\n",
      "460,655.013671875\n",
      "461,1267.1368408203125\n",
      "462,887.8857421875\n",
      "463,1032.16943359375\n",
      "464,857.0656127929688\n",
      "465,913.8223876953125\n",
      "466,911.1356811523438\n",
      "467,1000.3910522460938\n",
      "468,893.2431640625\n",
      "469,845.5780639648438\n",
      "470,1054.2835693359375\n",
      "471,966.2186279296875\n",
      "472,1015.4381103515625\n",
      "473,679.181884765625\n",
      "474,909.029296875\n",
      "475,992.70263671875\n",
      "476,853.5176391601562\n",
      "477,732.4275512695312\n",
      "478,881.8571166992188\n",
      "479,994.9307861328125\n",
      "480,843.1499633789062\n",
      "481,928.8375854492188\n",
      "482,881.21630859375\n",
      "483,1099.3394775390625\n",
      "484,911.8668823242188\n",
      "485,897.17138671875\n",
      "486,836.2506103515625\n",
      "487,949.37255859375\n",
      "488,934.958740234375\n",
      "489,905.6409912109375\n",
      "490,963.0333251953125\n",
      "491,829.9959106445312\n",
      "492,837.2157592773438\n",
      "493,892.9298706054688\n",
      "494,893.34130859375\n",
      "495,1020.809326171875\n",
      "496,814.3632202148438\n",
      "497,746.6697998046875\n",
      "498,686.0546875\n",
      "499,959.0341796875\n",
      "959.0341796875\n"
     ]
    }
   ],
   "source": [
    "with tf.Session() as sess:\n",
    "    # Initialize Variables in graph\n",
    "    sess.run(tf.global_variables_initializer())\n",
    " \n",
    "    # Gradient descent loop for 500 steps\n",
    "    for iloop in range(500):\n",
    "        # Select random minibatch\n",
    "        indices = np.random.choice(n_samples, batch_size)\n",
    "        X_batch, y_batch = X_data[indices], y_data[indices]\n",
    " \n",
    "        # Do gradient descent step\n",
    "        _, loss_val = sess.run([opt_operation, loss], feed_dict={X: X_batch, y: y_batch})\n",
    "        print(\"{0},{1}\".format(iloop, loss_val))   \n",
    "        \n",
    "    print(\"{0}\".format(loss_val))\n",
    "    W_np = sess.run(W)\n",
    "    b_np = sess.run(b)"
   ]
  },
  {
   "cell_type": "code",
   "execution_count": 14,
   "metadata": {
    "collapsed": false,
    "deletable": true,
    "editable": true
   },
   "outputs": [
    {
     "name": "stdout",
     "output_type": "stream",
     "text": [
      "[[ 1.5973444]]\n",
      "[ 0.43105549]\n"
     ]
    }
   ],
   "source": [
    "print(W_np)\n",
    "print(b_np)"
   ]
  },
  {
   "cell_type": "code",
   "execution_count": 15,
   "metadata": {
    "collapsed": false,
    "deletable": true,
    "editable": true
   },
   "outputs": [
    {
     "name": "stdout",
     "output_type": "stream",
     "text": [
      "1.5973443984985352,0.43105548620224\n"
     ]
    },
    {
     "data": {
      "image/png": "[encoded data removed]",
      "text/plain": [
       "<matplotlib.figure.Figure at 0x7ff62b9aa940>"
      ]
     },
     "metadata": {},
     "output_type": "display_data"
    }
   ],
   "source": [
    "W_plot = W_np.reshape(1,)[0]\n",
    "b_plot = b_np.reshape(1,)[0]\n",
    "\n",
    "print(\"{0},{1}\".format(W_plot, b_plot))\n",
    "\n",
    "fit = np.array([W_plot, b_plot])\n",
    "fit_fn = np.poly1d(fit) \n",
    "\n",
    "plt.plot(X_data_orig, y_data_orig, 'yo', X_data_orig, fit_fn(X_data_orig), '--k')\n",
    "plt.show()"
   ]
  },
  {
   "cell_type": "code",
   "execution_count": null,
   "metadata": {
    "collapsed": true,
    "deletable": true,
    "editable": true
   },
   "outputs": [],
   "source": []
  }
 ],
 "metadata": {
  "kernelspec": {
   "display_name": "Python 3.5",
   "language": "python",
   "name": "python3"
  },
  "language_info": {
   "codemirror_mode": {
    "name": "ipython",
    "version": 3
   },
   "file_extension": ".py",
   "mimetype": "text/x-python",
   "name": "python",
   "nbconvert_exporter": "python",
   "pygments_lexer": "ipython3",
   "version": "3.5.2"
  }
 },
 "nbformat": 4,
 "nbformat_minor": 2
}
